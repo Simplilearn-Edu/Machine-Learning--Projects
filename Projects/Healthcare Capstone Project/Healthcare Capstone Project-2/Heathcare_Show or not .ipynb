{
  "cells": [
    {
      "cell_type": "code",
      "execution_count": 1,
      "metadata": {
        "id": "khrSlzg3iFKI"
      },
      "outputs": [],
      "source": [
        "import pandas as pd\n",
        "dataset=pd.read_csv('/content/drive/MyDrive/New folder/Healthcare Capstone/train.csv')"
      ]
    },
    {
      "cell_type": "code",
      "execution_count": 2,
      "metadata": {
        "colab": {
          "base_uri": "https://localhost:8080/",
          "height": 357
        },
        "id": "CCNM5pavp2YO",
        "outputId": "6942607c-3149-448d-ffd8-5cff2273dd71"
      },
      "outputs": [
        {
          "output_type": "execute_result",
          "data": {
            "text/plain": [
              "   Age Gender AppointmentRegistration        ApointmentData DayOfTheWeek  \\\n",
              "0   38      F    2015-10-20T08:33:56Z  2015-10-23T00:00:00Z       Friday   \n",
              "1   56      F    2014-02-03T10:05:26Z  2014-02-20T00:00:00Z     Thursday   \n",
              "2   27      F    2014-04-29T07:57:32Z  2014-05-20T00:00:00Z      Tuesday   \n",
              "3   24      M    2014-04-02T13:53:37Z  2014-05-06T00:00:00Z      Tuesday   \n",
              "4   48      F    2014-01-07T10:07:17Z  2014-01-30T00:00:00Z     Thursday   \n",
              "\n",
              "    Status  Diabetes  Alcoolism  HiperTension  Handcap  Smokes  Scholarship  \\\n",
              "0  No-Show         0          0             0        0       1            0   \n",
              "1  No-Show         1          0             1        0       0            0   \n",
              "2  Show-Up         0          0             0        0       0            0   \n",
              "3  Show-Up         0          0             0        0       0            0   \n",
              "4  Show-Up         0          0             0        0       0            0   \n",
              "\n",
              "   Tuberculosis  Sms_Reminder  AwaitingTime  \n",
              "0             0             0            -3  \n",
              "1             0             1           -17  \n",
              "2             0             0           -21  \n",
              "3             0             0           -34  \n",
              "4             0             1           -23  "
            ],
            "text/html": [
              "\n",
              "  <div id=\"df-8a895bcb-4f5d-472b-be36-930a94ab7629\">\n",
              "    <div class=\"colab-df-container\">\n",
              "      <div>\n",
              "<style scoped>\n",
              "    .dataframe tbody tr th:only-of-type {\n",
              "        vertical-align: middle;\n",
              "    }\n",
              "\n",
              "    .dataframe tbody tr th {\n",
              "        vertical-align: top;\n",
              "    }\n",
              "\n",
              "    .dataframe thead th {\n",
              "        text-align: right;\n",
              "    }\n",
              "</style>\n",
              "<table border=\"1\" class=\"dataframe\">\n",
              "  <thead>\n",
              "    <tr style=\"text-align: right;\">\n",
              "      <th></th>\n",
              "      <th>Age</th>\n",
              "      <th>Gender</th>\n",
              "      <th>AppointmentRegistration</th>\n",
              "      <th>ApointmentData</th>\n",
              "      <th>DayOfTheWeek</th>\n",
              "      <th>Status</th>\n",
              "      <th>Diabetes</th>\n",
              "      <th>Alcoolism</th>\n",
              "      <th>HiperTension</th>\n",
              "      <th>Handcap</th>\n",
              "      <th>Smokes</th>\n",
              "      <th>Scholarship</th>\n",
              "      <th>Tuberculosis</th>\n",
              "      <th>Sms_Reminder</th>\n",
              "      <th>AwaitingTime</th>\n",
              "    </tr>\n",
              "  </thead>\n",
              "  <tbody>\n",
              "    <tr>\n",
              "      <th>0</th>\n",
              "      <td>38</td>\n",
              "      <td>F</td>\n",
              "      <td>2015-10-20T08:33:56Z</td>\n",
              "      <td>2015-10-23T00:00:00Z</td>\n",
              "      <td>Friday</td>\n",
              "      <td>No-Show</td>\n",
              "      <td>0</td>\n",
              "      <td>0</td>\n",
              "      <td>0</td>\n",
              "      <td>0</td>\n",
              "      <td>1</td>\n",
              "      <td>0</td>\n",
              "      <td>0</td>\n",
              "      <td>0</td>\n",
              "      <td>-3</td>\n",
              "    </tr>\n",
              "    <tr>\n",
              "      <th>1</th>\n",
              "      <td>56</td>\n",
              "      <td>F</td>\n",
              "      <td>2014-02-03T10:05:26Z</td>\n",
              "      <td>2014-02-20T00:00:00Z</td>\n",
              "      <td>Thursday</td>\n",
              "      <td>No-Show</td>\n",
              "      <td>1</td>\n",
              "      <td>0</td>\n",
              "      <td>1</td>\n",
              "      <td>0</td>\n",
              "      <td>0</td>\n",
              "      <td>0</td>\n",
              "      <td>0</td>\n",
              "      <td>1</td>\n",
              "      <td>-17</td>\n",
              "    </tr>\n",
              "    <tr>\n",
              "      <th>2</th>\n",
              "      <td>27</td>\n",
              "      <td>F</td>\n",
              "      <td>2014-04-29T07:57:32Z</td>\n",
              "      <td>2014-05-20T00:00:00Z</td>\n",
              "      <td>Tuesday</td>\n",
              "      <td>Show-Up</td>\n",
              "      <td>0</td>\n",
              "      <td>0</td>\n",
              "      <td>0</td>\n",
              "      <td>0</td>\n",
              "      <td>0</td>\n",
              "      <td>0</td>\n",
              "      <td>0</td>\n",
              "      <td>0</td>\n",
              "      <td>-21</td>\n",
              "    </tr>\n",
              "    <tr>\n",
              "      <th>3</th>\n",
              "      <td>24</td>\n",
              "      <td>M</td>\n",
              "      <td>2014-04-02T13:53:37Z</td>\n",
              "      <td>2014-05-06T00:00:00Z</td>\n",
              "      <td>Tuesday</td>\n",
              "      <td>Show-Up</td>\n",
              "      <td>0</td>\n",
              "      <td>0</td>\n",
              "      <td>0</td>\n",
              "      <td>0</td>\n",
              "      <td>0</td>\n",
              "      <td>0</td>\n",
              "      <td>0</td>\n",
              "      <td>0</td>\n",
              "      <td>-34</td>\n",
              "    </tr>\n",
              "    <tr>\n",
              "      <th>4</th>\n",
              "      <td>48</td>\n",
              "      <td>F</td>\n",
              "      <td>2014-01-07T10:07:17Z</td>\n",
              "      <td>2014-01-30T00:00:00Z</td>\n",
              "      <td>Thursday</td>\n",
              "      <td>Show-Up</td>\n",
              "      <td>0</td>\n",
              "      <td>0</td>\n",
              "      <td>0</td>\n",
              "      <td>0</td>\n",
              "      <td>0</td>\n",
              "      <td>0</td>\n",
              "      <td>0</td>\n",
              "      <td>1</td>\n",
              "      <td>-23</td>\n",
              "    </tr>\n",
              "  </tbody>\n",
              "</table>\n",
              "</div>\n",
              "      <button class=\"colab-df-convert\" onclick=\"convertToInteractive('df-8a895bcb-4f5d-472b-be36-930a94ab7629')\"\n",
              "              title=\"Convert this dataframe to an interactive table.\"\n",
              "              style=\"display:none;\">\n",
              "        \n",
              "  <svg xmlns=\"http://www.w3.org/2000/svg\" height=\"24px\"viewBox=\"0 0 24 24\"\n",
              "       width=\"24px\">\n",
              "    <path d=\"M0 0h24v24H0V0z\" fill=\"none\"/>\n",
              "    <path d=\"M18.56 5.44l.94 2.06.94-2.06 2.06-.94-2.06-.94-.94-2.06-.94 2.06-2.06.94zm-11 1L8.5 8.5l.94-2.06 2.06-.94-2.06-.94L8.5 2.5l-.94 2.06-2.06.94zm10 10l.94 2.06.94-2.06 2.06-.94-2.06-.94-.94-2.06-.94 2.06-2.06.94z\"/><path d=\"M17.41 7.96l-1.37-1.37c-.4-.4-.92-.59-1.43-.59-.52 0-1.04.2-1.43.59L10.3 9.45l-7.72 7.72c-.78.78-.78 2.05 0 2.83L4 21.41c.39.39.9.59 1.41.59.51 0 1.02-.2 1.41-.59l7.78-7.78 2.81-2.81c.8-.78.8-2.07 0-2.86zM5.41 20L4 18.59l7.72-7.72 1.47 1.35L5.41 20z\"/>\n",
              "  </svg>\n",
              "      </button>\n",
              "      \n",
              "  <style>\n",
              "    .colab-df-container {\n",
              "      display:flex;\n",
              "      flex-wrap:wrap;\n",
              "      gap: 12px;\n",
              "    }\n",
              "\n",
              "    .colab-df-convert {\n",
              "      background-color: #E8F0FE;\n",
              "      border: none;\n",
              "      border-radius: 50%;\n",
              "      cursor: pointer;\n",
              "      display: none;\n",
              "      fill: #1967D2;\n",
              "      height: 32px;\n",
              "      padding: 0 0 0 0;\n",
              "      width: 32px;\n",
              "    }\n",
              "\n",
              "    .colab-df-convert:hover {\n",
              "      background-color: #E2EBFA;\n",
              "      box-shadow: 0px 1px 2px rgba(60, 64, 67, 0.3), 0px 1px 3px 1px rgba(60, 64, 67, 0.15);\n",
              "      fill: #174EA6;\n",
              "    }\n",
              "\n",
              "    [theme=dark] .colab-df-convert {\n",
              "      background-color: #3B4455;\n",
              "      fill: #D2E3FC;\n",
              "    }\n",
              "\n",
              "    [theme=dark] .colab-df-convert:hover {\n",
              "      background-color: #434B5C;\n",
              "      box-shadow: 0px 1px 3px 1px rgba(0, 0, 0, 0.15);\n",
              "      filter: drop-shadow(0px 1px 2px rgba(0, 0, 0, 0.3));\n",
              "      fill: #FFFFFF;\n",
              "    }\n",
              "  </style>\n",
              "\n",
              "      <script>\n",
              "        const buttonEl =\n",
              "          document.querySelector('#df-8a895bcb-4f5d-472b-be36-930a94ab7629 button.colab-df-convert');\n",
              "        buttonEl.style.display =\n",
              "          google.colab.kernel.accessAllowed ? 'block' : 'none';\n",
              "\n",
              "        async function convertToInteractive(key) {\n",
              "          const element = document.querySelector('#df-8a895bcb-4f5d-472b-be36-930a94ab7629');\n",
              "          const dataTable =\n",
              "            await google.colab.kernel.invokeFunction('convertToInteractive',\n",
              "                                                     [key], {});\n",
              "          if (!dataTable) return;\n",
              "\n",
              "          const docLinkHtml = 'Like what you see? Visit the ' +\n",
              "            '<a target=\"_blank\" href=https://colab.research.google.com/notebooks/data_table.ipynb>data table notebook</a>'\n",
              "            + ' to learn more about interactive tables.';\n",
              "          element.innerHTML = '';\n",
              "          dataTable['output_type'] = 'display_data';\n",
              "          await google.colab.output.renderOutput(dataTable, element);\n",
              "          const docLink = document.createElement('div');\n",
              "          docLink.innerHTML = docLinkHtml;\n",
              "          element.appendChild(docLink);\n",
              "        }\n",
              "      </script>\n",
              "    </div>\n",
              "  </div>\n",
              "  "
            ]
          },
          "metadata": {},
          "execution_count": 2
        }
      ],
      "source": [
        "dataset.head()"
      ]
    },
    {
      "cell_type": "code",
      "execution_count": 3,
      "metadata": {
        "colab": {
          "base_uri": "https://localhost:8080/"
        },
        "id": "gQjND1qsp37H",
        "outputId": "fae2251b-2d91-45ea-ef07-b156488112e8"
      },
      "outputs": [
        {
          "output_type": "stream",
          "name": "stdout",
          "text": [
            "<class 'pandas.core.frame.DataFrame'>\n",
            "RangeIndex: 210000 entries, 0 to 209999\n",
            "Data columns (total 15 columns):\n",
            " #   Column                   Non-Null Count   Dtype \n",
            "---  ------                   --------------   ----- \n",
            " 0   Age                      210000 non-null  int64 \n",
            " 1   Gender                   210000 non-null  object\n",
            " 2   AppointmentRegistration  210000 non-null  object\n",
            " 3   ApointmentData           210000 non-null  object\n",
            " 4   DayOfTheWeek             210000 non-null  object\n",
            " 5   Status                   210000 non-null  object\n",
            " 6   Diabetes                 210000 non-null  int64 \n",
            " 7   Alcoolism                210000 non-null  int64 \n",
            " 8   HiperTension             210000 non-null  int64 \n",
            " 9   Handcap                  210000 non-null  int64 \n",
            " 10  Smokes                   210000 non-null  int64 \n",
            " 11  Scholarship              210000 non-null  int64 \n",
            " 12  Tuberculosis             210000 non-null  int64 \n",
            " 13  Sms_Reminder             210000 non-null  int64 \n",
            " 14  AwaitingTime             210000 non-null  int64 \n",
            "dtypes: int64(10), object(5)\n",
            "memory usage: 24.0+ MB\n"
          ]
        }
      ],
      "source": [
        "dataset.info()"
      ]
    },
    {
      "cell_type": "markdown",
      "metadata": {
        "id": "aKlfWNVRdumo"
      },
      "source": [
        "1.\tTry and explore the data to check for missing values/erroneous entries and also comment on redundant features and add additional ones, if needed."
      ]
    },
    {
      "cell_type": "code",
      "execution_count": 4,
      "metadata": {
        "colab": {
          "base_uri": "https://localhost:8080/"
        },
        "id": "_SEUur37cr1-",
        "outputId": "9a2a3f39-bd34-4c2b-ce5b-22241babac6f"
      },
      "outputs": [
        {
          "output_type": "execute_result",
          "data": {
            "text/plain": [
              "False"
            ]
          },
          "metadata": {},
          "execution_count": 4
        }
      ],
      "source": [
        "dataset.duplicated().all()"
      ]
    },
    {
      "cell_type": "code",
      "execution_count": 5,
      "metadata": {
        "colab": {
          "base_uri": "https://localhost:8080/"
        },
        "id": "Eys60wb0cpsb",
        "outputId": "ffaf9f64-983c-4254-d241-b476cdadff66"
      },
      "outputs": [
        {
          "output_type": "execute_result",
          "data": {
            "text/plain": [
              "Age                        0\n",
              "Gender                     0\n",
              "AppointmentRegistration    0\n",
              "ApointmentData             0\n",
              "DayOfTheWeek               0\n",
              "Status                     0\n",
              "Diabetes                   0\n",
              "Alcoolism                  0\n",
              "HiperTension               0\n",
              "Handcap                    0\n",
              "Smokes                     0\n",
              "Scholarship                0\n",
              "Tuberculosis               0\n",
              "Sms_Reminder               0\n",
              "AwaitingTime               0\n",
              "dtype: int64"
            ]
          },
          "metadata": {},
          "execution_count": 5
        }
      ],
      "source": [
        "dataset.isnull().sum()"
      ]
    },
    {
      "cell_type": "code",
      "execution_count": 6,
      "metadata": {
        "colab": {
          "base_uri": "https://localhost:8080/"
        },
        "id": "OrjuvnPFcu7v",
        "outputId": "68b4ac8d-e745-4b85-d36e-8606f7ab17eb"
      },
      "outputs": [
        {
          "output_type": "execute_result",
          "data": {
            "text/plain": [
              "(210000, 15)"
            ]
          },
          "metadata": {},
          "execution_count": 6
        }
      ],
      "source": [
        "dataset.shape"
      ]
    },
    {
      "cell_type": "code",
      "execution_count": 7,
      "metadata": {
        "colab": {
          "base_uri": "https://localhost:8080/",
          "height": 661
        },
        "id": "X5bWLqfAi49y",
        "outputId": "0f6c797e-ee20-4db5-dbdc-1176f80a2b0e"
      },
      "outputs": [
        {
          "output_type": "execute_result",
          "data": {
            "text/plain": [
              "        Age AppointmentRegistration        ApointmentData DayOfTheWeek  \\\n",
              "0        38    2015-10-20T08:33:56Z  2015-10-23T00:00:00Z       Friday   \n",
              "1        56    2014-02-03T10:05:26Z  2014-02-20T00:00:00Z     Thursday   \n",
              "2        27    2014-04-29T07:57:32Z  2014-05-20T00:00:00Z      Tuesday   \n",
              "3        24    2014-04-02T13:53:37Z  2014-05-06T00:00:00Z      Tuesday   \n",
              "4        48    2014-01-07T10:07:17Z  2014-01-30T00:00:00Z     Thursday   \n",
              "...     ...                     ...                   ...          ...   \n",
              "209995   53    2015-04-06T10:49:44Z  2015-04-07T00:00:00Z      Tuesday   \n",
              "209996   20    2015-04-09T12:54:38Z  2015-04-10T00:00:00Z       Friday   \n",
              "209997   59    2014-07-22T15:20:48Z  2014-07-31T00:00:00Z     Thursday   \n",
              "209998    9    2014-05-14T08:26:00Z  2014-05-27T00:00:00Z      Tuesday   \n",
              "209999   64    2014-04-07T15:08:51Z  2014-04-09T00:00:00Z    Wednesday   \n",
              "\n",
              "         Status  Diabetes  Alcoolism  HiperTension  Handcap  Smokes  \\\n",
              "0       No-Show         0          0             0        0       1   \n",
              "1       No-Show         1          0             1        0       0   \n",
              "2       Show-Up         0          0             0        0       0   \n",
              "3       Show-Up         0          0             0        0       0   \n",
              "4       Show-Up         0          0             0        0       0   \n",
              "...         ...       ...        ...           ...      ...     ...   \n",
              "209995  Show-Up         0          0             0        0       0   \n",
              "209996  Show-Up         0          0             1        0       0   \n",
              "209997  Show-Up         0          0             0        0       0   \n",
              "209998  Show-Up         0          0             0        0       0   \n",
              "209999  Show-Up         1          0             1        0       0   \n",
              "\n",
              "        Scholarship  Tuberculosis  Sms_Reminder  AwaitingTime  Gender_F  \\\n",
              "0                 0             0             0            -3         1   \n",
              "1                 0             0             1           -17         1   \n",
              "2                 0             0             0           -21         1   \n",
              "3                 0             0             0           -34         0   \n",
              "4                 0             0             1           -23         1   \n",
              "...             ...           ...           ...           ...       ...   \n",
              "209995            0             0             0            -1         1   \n",
              "209996            0             0             0            -1         1   \n",
              "209997            0             0             1            -9         1   \n",
              "209998            1             0             1           -13         0   \n",
              "209999            0             0             0            -2         1   \n",
              "\n",
              "        Gender_M  \n",
              "0              0  \n",
              "1              0  \n",
              "2              0  \n",
              "3              1  \n",
              "4              0  \n",
              "...          ...  \n",
              "209995         0  \n",
              "209996         0  \n",
              "209997         0  \n",
              "209998         1  \n",
              "209999         0  \n",
              "\n",
              "[210000 rows x 16 columns]"
            ],
            "text/html": [
              "\n",
              "  <div id=\"df-8b67578e-5afa-4ad0-b16a-015f28ac162f\">\n",
              "    <div class=\"colab-df-container\">\n",
              "      <div>\n",
              "<style scoped>\n",
              "    .dataframe tbody tr th:only-of-type {\n",
              "        vertical-align: middle;\n",
              "    }\n",
              "\n",
              "    .dataframe tbody tr th {\n",
              "        vertical-align: top;\n",
              "    }\n",
              "\n",
              "    .dataframe thead th {\n",
              "        text-align: right;\n",
              "    }\n",
              "</style>\n",
              "<table border=\"1\" class=\"dataframe\">\n",
              "  <thead>\n",
              "    <tr style=\"text-align: right;\">\n",
              "      <th></th>\n",
              "      <th>Age</th>\n",
              "      <th>AppointmentRegistration</th>\n",
              "      <th>ApointmentData</th>\n",
              "      <th>DayOfTheWeek</th>\n",
              "      <th>Status</th>\n",
              "      <th>Diabetes</th>\n",
              "      <th>Alcoolism</th>\n",
              "      <th>HiperTension</th>\n",
              "      <th>Handcap</th>\n",
              "      <th>Smokes</th>\n",
              "      <th>Scholarship</th>\n",
              "      <th>Tuberculosis</th>\n",
              "      <th>Sms_Reminder</th>\n",
              "      <th>AwaitingTime</th>\n",
              "      <th>Gender_F</th>\n",
              "      <th>Gender_M</th>\n",
              "    </tr>\n",
              "  </thead>\n",
              "  <tbody>\n",
              "    <tr>\n",
              "      <th>0</th>\n",
              "      <td>38</td>\n",
              "      <td>2015-10-20T08:33:56Z</td>\n",
              "      <td>2015-10-23T00:00:00Z</td>\n",
              "      <td>Friday</td>\n",
              "      <td>No-Show</td>\n",
              "      <td>0</td>\n",
              "      <td>0</td>\n",
              "      <td>0</td>\n",
              "      <td>0</td>\n",
              "      <td>1</td>\n",
              "      <td>0</td>\n",
              "      <td>0</td>\n",
              "      <td>0</td>\n",
              "      <td>-3</td>\n",
              "      <td>1</td>\n",
              "      <td>0</td>\n",
              "    </tr>\n",
              "    <tr>\n",
              "      <th>1</th>\n",
              "      <td>56</td>\n",
              "      <td>2014-02-03T10:05:26Z</td>\n",
              "      <td>2014-02-20T00:00:00Z</td>\n",
              "      <td>Thursday</td>\n",
              "      <td>No-Show</td>\n",
              "      <td>1</td>\n",
              "      <td>0</td>\n",
              "      <td>1</td>\n",
              "      <td>0</td>\n",
              "      <td>0</td>\n",
              "      <td>0</td>\n",
              "      <td>0</td>\n",
              "      <td>1</td>\n",
              "      <td>-17</td>\n",
              "      <td>1</td>\n",
              "      <td>0</td>\n",
              "    </tr>\n",
              "    <tr>\n",
              "      <th>2</th>\n",
              "      <td>27</td>\n",
              "      <td>2014-04-29T07:57:32Z</td>\n",
              "      <td>2014-05-20T00:00:00Z</td>\n",
              "      <td>Tuesday</td>\n",
              "      <td>Show-Up</td>\n",
              "      <td>0</td>\n",
              "      <td>0</td>\n",
              "      <td>0</td>\n",
              "      <td>0</td>\n",
              "      <td>0</td>\n",
              "      <td>0</td>\n",
              "      <td>0</td>\n",
              "      <td>0</td>\n",
              "      <td>-21</td>\n",
              "      <td>1</td>\n",
              "      <td>0</td>\n",
              "    </tr>\n",
              "    <tr>\n",
              "      <th>3</th>\n",
              "      <td>24</td>\n",
              "      <td>2014-04-02T13:53:37Z</td>\n",
              "      <td>2014-05-06T00:00:00Z</td>\n",
              "      <td>Tuesday</td>\n",
              "      <td>Show-Up</td>\n",
              "      <td>0</td>\n",
              "      <td>0</td>\n",
              "      <td>0</td>\n",
              "      <td>0</td>\n",
              "      <td>0</td>\n",
              "      <td>0</td>\n",
              "      <td>0</td>\n",
              "      <td>0</td>\n",
              "      <td>-34</td>\n",
              "      <td>0</td>\n",
              "      <td>1</td>\n",
              "    </tr>\n",
              "    <tr>\n",
              "      <th>4</th>\n",
              "      <td>48</td>\n",
              "      <td>2014-01-07T10:07:17Z</td>\n",
              "      <td>2014-01-30T00:00:00Z</td>\n",
              "      <td>Thursday</td>\n",
              "      <td>Show-Up</td>\n",
              "      <td>0</td>\n",
              "      <td>0</td>\n",
              "      <td>0</td>\n",
              "      <td>0</td>\n",
              "      <td>0</td>\n",
              "      <td>0</td>\n",
              "      <td>0</td>\n",
              "      <td>1</td>\n",
              "      <td>-23</td>\n",
              "      <td>1</td>\n",
              "      <td>0</td>\n",
              "    </tr>\n",
              "    <tr>\n",
              "      <th>...</th>\n",
              "      <td>...</td>\n",
              "      <td>...</td>\n",
              "      <td>...</td>\n",
              "      <td>...</td>\n",
              "      <td>...</td>\n",
              "      <td>...</td>\n",
              "      <td>...</td>\n",
              "      <td>...</td>\n",
              "      <td>...</td>\n",
              "      <td>...</td>\n",
              "      <td>...</td>\n",
              "      <td>...</td>\n",
              "      <td>...</td>\n",
              "      <td>...</td>\n",
              "      <td>...</td>\n",
              "      <td>...</td>\n",
              "    </tr>\n",
              "    <tr>\n",
              "      <th>209995</th>\n",
              "      <td>53</td>\n",
              "      <td>2015-04-06T10:49:44Z</td>\n",
              "      <td>2015-04-07T00:00:00Z</td>\n",
              "      <td>Tuesday</td>\n",
              "      <td>Show-Up</td>\n",
              "      <td>0</td>\n",
              "      <td>0</td>\n",
              "      <td>0</td>\n",
              "      <td>0</td>\n",
              "      <td>0</td>\n",
              "      <td>0</td>\n",
              "      <td>0</td>\n",
              "      <td>0</td>\n",
              "      <td>-1</td>\n",
              "      <td>1</td>\n",
              "      <td>0</td>\n",
              "    </tr>\n",
              "    <tr>\n",
              "      <th>209996</th>\n",
              "      <td>20</td>\n",
              "      <td>2015-04-09T12:54:38Z</td>\n",
              "      <td>2015-04-10T00:00:00Z</td>\n",
              "      <td>Friday</td>\n",
              "      <td>Show-Up</td>\n",
              "      <td>0</td>\n",
              "      <td>0</td>\n",
              "      <td>1</td>\n",
              "      <td>0</td>\n",
              "      <td>0</td>\n",
              "      <td>0</td>\n",
              "      <td>0</td>\n",
              "      <td>0</td>\n",
              "      <td>-1</td>\n",
              "      <td>1</td>\n",
              "      <td>0</td>\n",
              "    </tr>\n",
              "    <tr>\n",
              "      <th>209997</th>\n",
              "      <td>59</td>\n",
              "      <td>2014-07-22T15:20:48Z</td>\n",
              "      <td>2014-07-31T00:00:00Z</td>\n",
              "      <td>Thursday</td>\n",
              "      <td>Show-Up</td>\n",
              "      <td>0</td>\n",
              "      <td>0</td>\n",
              "      <td>0</td>\n",
              "      <td>0</td>\n",
              "      <td>0</td>\n",
              "      <td>0</td>\n",
              "      <td>0</td>\n",
              "      <td>1</td>\n",
              "      <td>-9</td>\n",
              "      <td>1</td>\n",
              "      <td>0</td>\n",
              "    </tr>\n",
              "    <tr>\n",
              "      <th>209998</th>\n",
              "      <td>9</td>\n",
              "      <td>2014-05-14T08:26:00Z</td>\n",
              "      <td>2014-05-27T00:00:00Z</td>\n",
              "      <td>Tuesday</td>\n",
              "      <td>Show-Up</td>\n",
              "      <td>0</td>\n",
              "      <td>0</td>\n",
              "      <td>0</td>\n",
              "      <td>0</td>\n",
              "      <td>0</td>\n",
              "      <td>1</td>\n",
              "      <td>0</td>\n",
              "      <td>1</td>\n",
              "      <td>-13</td>\n",
              "      <td>0</td>\n",
              "      <td>1</td>\n",
              "    </tr>\n",
              "    <tr>\n",
              "      <th>209999</th>\n",
              "      <td>64</td>\n",
              "      <td>2014-04-07T15:08:51Z</td>\n",
              "      <td>2014-04-09T00:00:00Z</td>\n",
              "      <td>Wednesday</td>\n",
              "      <td>Show-Up</td>\n",
              "      <td>1</td>\n",
              "      <td>0</td>\n",
              "      <td>1</td>\n",
              "      <td>0</td>\n",
              "      <td>0</td>\n",
              "      <td>0</td>\n",
              "      <td>0</td>\n",
              "      <td>0</td>\n",
              "      <td>-2</td>\n",
              "      <td>1</td>\n",
              "      <td>0</td>\n",
              "    </tr>\n",
              "  </tbody>\n",
              "</table>\n",
              "<p>210000 rows × 16 columns</p>\n",
              "</div>\n",
              "      <button class=\"colab-df-convert\" onclick=\"convertToInteractive('df-8b67578e-5afa-4ad0-b16a-015f28ac162f')\"\n",
              "              title=\"Convert this dataframe to an interactive table.\"\n",
              "              style=\"display:none;\">\n",
              "        \n",
              "  <svg xmlns=\"http://www.w3.org/2000/svg\" height=\"24px\"viewBox=\"0 0 24 24\"\n",
              "       width=\"24px\">\n",
              "    <path d=\"M0 0h24v24H0V0z\" fill=\"none\"/>\n",
              "    <path d=\"M18.56 5.44l.94 2.06.94-2.06 2.06-.94-2.06-.94-.94-2.06-.94 2.06-2.06.94zm-11 1L8.5 8.5l.94-2.06 2.06-.94-2.06-.94L8.5 2.5l-.94 2.06-2.06.94zm10 10l.94 2.06.94-2.06 2.06-.94-2.06-.94-.94-2.06-.94 2.06-2.06.94z\"/><path d=\"M17.41 7.96l-1.37-1.37c-.4-.4-.92-.59-1.43-.59-.52 0-1.04.2-1.43.59L10.3 9.45l-7.72 7.72c-.78.78-.78 2.05 0 2.83L4 21.41c.39.39.9.59 1.41.59.51 0 1.02-.2 1.41-.59l7.78-7.78 2.81-2.81c.8-.78.8-2.07 0-2.86zM5.41 20L4 18.59l7.72-7.72 1.47 1.35L5.41 20z\"/>\n",
              "  </svg>\n",
              "      </button>\n",
              "      \n",
              "  <style>\n",
              "    .colab-df-container {\n",
              "      display:flex;\n",
              "      flex-wrap:wrap;\n",
              "      gap: 12px;\n",
              "    }\n",
              "\n",
              "    .colab-df-convert {\n",
              "      background-color: #E8F0FE;\n",
              "      border: none;\n",
              "      border-radius: 50%;\n",
              "      cursor: pointer;\n",
              "      display: none;\n",
              "      fill: #1967D2;\n",
              "      height: 32px;\n",
              "      padding: 0 0 0 0;\n",
              "      width: 32px;\n",
              "    }\n",
              "\n",
              "    .colab-df-convert:hover {\n",
              "      background-color: #E2EBFA;\n",
              "      box-shadow: 0px 1px 2px rgba(60, 64, 67, 0.3), 0px 1px 3px 1px rgba(60, 64, 67, 0.15);\n",
              "      fill: #174EA6;\n",
              "    }\n",
              "\n",
              "    [theme=dark] .colab-df-convert {\n",
              "      background-color: #3B4455;\n",
              "      fill: #D2E3FC;\n",
              "    }\n",
              "\n",
              "    [theme=dark] .colab-df-convert:hover {\n",
              "      background-color: #434B5C;\n",
              "      box-shadow: 0px 1px 3px 1px rgba(0, 0, 0, 0.15);\n",
              "      filter: drop-shadow(0px 1px 2px rgba(0, 0, 0, 0.3));\n",
              "      fill: #FFFFFF;\n",
              "    }\n",
              "  </style>\n",
              "\n",
              "      <script>\n",
              "        const buttonEl =\n",
              "          document.querySelector('#df-8b67578e-5afa-4ad0-b16a-015f28ac162f button.colab-df-convert');\n",
              "        buttonEl.style.display =\n",
              "          google.colab.kernel.accessAllowed ? 'block' : 'none';\n",
              "\n",
              "        async function convertToInteractive(key) {\n",
              "          const element = document.querySelector('#df-8b67578e-5afa-4ad0-b16a-015f28ac162f');\n",
              "          const dataTable =\n",
              "            await google.colab.kernel.invokeFunction('convertToInteractive',\n",
              "                                                     [key], {});\n",
              "          if (!dataTable) return;\n",
              "\n",
              "          const docLinkHtml = 'Like what you see? Visit the ' +\n",
              "            '<a target=\"_blank\" href=https://colab.research.google.com/notebooks/data_table.ipynb>data table notebook</a>'\n",
              "            + ' to learn more about interactive tables.';\n",
              "          element.innerHTML = '';\n",
              "          dataTable['output_type'] = 'display_data';\n",
              "          await google.colab.output.renderOutput(dataTable, element);\n",
              "          const docLink = document.createElement('div');\n",
              "          docLink.innerHTML = docLinkHtml;\n",
              "          element.appendChild(docLink);\n",
              "        }\n",
              "      </script>\n",
              "    </div>\n",
              "  </div>\n",
              "  "
            ]
          },
          "metadata": {},
          "execution_count": 7
        }
      ],
      "source": [
        "#Encoded\n",
        "encoded= pd.get_dummies(dataset, columns = ['Gender'])\n",
        "encoded"
      ]
    },
    {
      "cell_type": "code",
      "execution_count": 8,
      "metadata": {
        "colab": {
          "base_uri": "https://localhost:8080/"
        },
        "id": "HPsS8RJ3x7HN",
        "outputId": "2a69b8fb-05d5-4693-e88a-4d05c38ed79e"
      },
      "outputs": [
        {
          "output_type": "execute_result",
          "data": {
            "text/plain": [
              "(210000, 16)"
            ]
          },
          "metadata": {},
          "execution_count": 8
        }
      ],
      "source": [
        "encoded.shape"
      ]
    },
    {
      "cell_type": "markdown",
      "metadata": {
        "id": "uQxphW6ct8Xe"
      },
      "source": [
        "2.\tIt is immediately apparent that some of the column names have typos, so let us clear them up before continuing further, so that we don't have to use alternate spellings every time we need a variable. "
      ]
    },
    {
      "cell_type": "code",
      "execution_count": 9,
      "metadata": {
        "colab": {
          "base_uri": "https://localhost:8080/"
        },
        "id": "oM4KXv5GuAHg",
        "outputId": "fc8ce05a-8099-4866-ab1c-b1f872712090"
      },
      "outputs": [
        {
          "output_type": "execute_result",
          "data": {
            "text/plain": [
              "Index(['Age', 'AppointmentRegistration', 'ApointmentData', 'DayOfTheWeek',\n",
              "       'Status', 'Diabetes', 'Alcoolism', 'HiperTension', 'Handcap', 'Smokes',\n",
              "       'Scholarship', 'Tuberculosis', 'Sms_Reminder', 'AwaitingTime',\n",
              "       'Gender_F', 'Gender_M'],\n",
              "      dtype='object')"
            ]
          },
          "metadata": {},
          "execution_count": 9
        }
      ],
      "source": [
        "encoded.columns"
      ]
    },
    {
      "cell_type": "code",
      "execution_count": 10,
      "metadata": {
        "id": "p989aXrnDcd5"
      },
      "outputs": [],
      "source": [
        "encoded['DataMarcacaoConsulta']=encoded['AppointmentRegistration']\n",
        "encoded['DataAgendamento']=encoded['ApointmentData']\n",
        "encoded['Alcoholism']=encoded['Alcoolism']\n",
        "encoded['SMS_received']=encoded['Sms_Reminder']\n",
        "\n",
        "\n",
        "#drop the spelling mistake columns\n",
        "\n",
        "encoded.drop(['AppointmentRegistration','ApointmentData','Alcoolism','Sms_Reminder'],axis=1,inplace=True)"
      ]
    },
    {
      "cell_type": "markdown",
      "metadata": {
        "id": "t8PsLL0Zt1h_"
      },
      "source": [
        "3.\tFor convenience, convert the AppointmentRegistration and Appointment columns into datetime64 format and the AwaitingTime column into absolute values."
      ]
    },
    {
      "cell_type": "code",
      "execution_count": 11,
      "metadata": {
        "id": "3FExG4qThy31"
      },
      "outputs": [],
      "source": [
        "# object date_time into datetime64 dtype convergence\n",
        "encoded['DataMarcacaoConsulta']=pd.to_datetime(encoded['DataMarcacaoConsulta'])\n",
        "encoded['DataAgendamento']=pd.to_datetime(encoded['DataAgendamento'])"
      ]
    },
    {
      "cell_type": "markdown",
      "metadata": {
        "id": "Lt58Flex3p5W"
      },
      "source": [
        "4.\tCreate a new feature called HourOfTheDay, which will indicate the hour of the day at which the appointment was booked. "
      ]
    },
    {
      "cell_type": "code",
      "execution_count": 12,
      "metadata": {
        "id": "Nc6h6Fg3k6iG"
      },
      "outputs": [],
      "source": [
        "encoded['HourOfTheDay']=encoded['DataMarcacaoConsulta'].dt.hour"
      ]
    },
    {
      "cell_type": "code",
      "execution_count": 13,
      "metadata": {
        "colab": {
          "base_uri": "https://localhost:8080/",
          "height": 357
        },
        "id": "YkwUxpiN4GzZ",
        "outputId": "85a6cc60-93c0-4bd4-94bd-b509fe6f7c6f"
      },
      "outputs": [
        {
          "output_type": "execute_result",
          "data": {
            "text/plain": [
              "   Age DayOfTheWeek   Status  Diabetes  HiperTension  Handcap  Smokes  \\\n",
              "0   38       Friday  No-Show         0             0        0       1   \n",
              "1   56     Thursday  No-Show         1             1        0       0   \n",
              "2   27      Tuesday  Show-Up         0             0        0       0   \n",
              "3   24      Tuesday  Show-Up         0             0        0       0   \n",
              "4   48     Thursday  Show-Up         0             0        0       0   \n",
              "\n",
              "   Scholarship  Tuberculosis  AwaitingTime  Gender_F  Gender_M  \\\n",
              "0            0             0            -3         1         0   \n",
              "1            0             0           -17         1         0   \n",
              "2            0             0           -21         1         0   \n",
              "3            0             0           -34         0         1   \n",
              "4            0             0           -23         1         0   \n",
              "\n",
              "       DataMarcacaoConsulta           DataAgendamento  Alcoholism  \\\n",
              "0 2015-10-20 08:33:56+00:00 2015-10-23 00:00:00+00:00           0   \n",
              "1 2014-02-03 10:05:26+00:00 2014-02-20 00:00:00+00:00           0   \n",
              "2 2014-04-29 07:57:32+00:00 2014-05-20 00:00:00+00:00           0   \n",
              "3 2014-04-02 13:53:37+00:00 2014-05-06 00:00:00+00:00           0   \n",
              "4 2014-01-07 10:07:17+00:00 2014-01-30 00:00:00+00:00           0   \n",
              "\n",
              "   SMS_received  HourOfTheDay  \n",
              "0             0             8  \n",
              "1             1            10  \n",
              "2             0             7  \n",
              "3             0            13  \n",
              "4             1            10  "
            ],
            "text/html": [
              "\n",
              "  <div id=\"df-ae6244f5-82f9-4af4-ae11-28e8c827329f\">\n",
              "    <div class=\"colab-df-container\">\n",
              "      <div>\n",
              "<style scoped>\n",
              "    .dataframe tbody tr th:only-of-type {\n",
              "        vertical-align: middle;\n",
              "    }\n",
              "\n",
              "    .dataframe tbody tr th {\n",
              "        vertical-align: top;\n",
              "    }\n",
              "\n",
              "    .dataframe thead th {\n",
              "        text-align: right;\n",
              "    }\n",
              "</style>\n",
              "<table border=\"1\" class=\"dataframe\">\n",
              "  <thead>\n",
              "    <tr style=\"text-align: right;\">\n",
              "      <th></th>\n",
              "      <th>Age</th>\n",
              "      <th>DayOfTheWeek</th>\n",
              "      <th>Status</th>\n",
              "      <th>Diabetes</th>\n",
              "      <th>HiperTension</th>\n",
              "      <th>Handcap</th>\n",
              "      <th>Smokes</th>\n",
              "      <th>Scholarship</th>\n",
              "      <th>Tuberculosis</th>\n",
              "      <th>AwaitingTime</th>\n",
              "      <th>Gender_F</th>\n",
              "      <th>Gender_M</th>\n",
              "      <th>DataMarcacaoConsulta</th>\n",
              "      <th>DataAgendamento</th>\n",
              "      <th>Alcoholism</th>\n",
              "      <th>SMS_received</th>\n",
              "      <th>HourOfTheDay</th>\n",
              "    </tr>\n",
              "  </thead>\n",
              "  <tbody>\n",
              "    <tr>\n",
              "      <th>0</th>\n",
              "      <td>38</td>\n",
              "      <td>Friday</td>\n",
              "      <td>No-Show</td>\n",
              "      <td>0</td>\n",
              "      <td>0</td>\n",
              "      <td>0</td>\n",
              "      <td>1</td>\n",
              "      <td>0</td>\n",
              "      <td>0</td>\n",
              "      <td>-3</td>\n",
              "      <td>1</td>\n",
              "      <td>0</td>\n",
              "      <td>2015-10-20 08:33:56+00:00</td>\n",
              "      <td>2015-10-23 00:00:00+00:00</td>\n",
              "      <td>0</td>\n",
              "      <td>0</td>\n",
              "      <td>8</td>\n",
              "    </tr>\n",
              "    <tr>\n",
              "      <th>1</th>\n",
              "      <td>56</td>\n",
              "      <td>Thursday</td>\n",
              "      <td>No-Show</td>\n",
              "      <td>1</td>\n",
              "      <td>1</td>\n",
              "      <td>0</td>\n",
              "      <td>0</td>\n",
              "      <td>0</td>\n",
              "      <td>0</td>\n",
              "      <td>-17</td>\n",
              "      <td>1</td>\n",
              "      <td>0</td>\n",
              "      <td>2014-02-03 10:05:26+00:00</td>\n",
              "      <td>2014-02-20 00:00:00+00:00</td>\n",
              "      <td>0</td>\n",
              "      <td>1</td>\n",
              "      <td>10</td>\n",
              "    </tr>\n",
              "    <tr>\n",
              "      <th>2</th>\n",
              "      <td>27</td>\n",
              "      <td>Tuesday</td>\n",
              "      <td>Show-Up</td>\n",
              "      <td>0</td>\n",
              "      <td>0</td>\n",
              "      <td>0</td>\n",
              "      <td>0</td>\n",
              "      <td>0</td>\n",
              "      <td>0</td>\n",
              "      <td>-21</td>\n",
              "      <td>1</td>\n",
              "      <td>0</td>\n",
              "      <td>2014-04-29 07:57:32+00:00</td>\n",
              "      <td>2014-05-20 00:00:00+00:00</td>\n",
              "      <td>0</td>\n",
              "      <td>0</td>\n",
              "      <td>7</td>\n",
              "    </tr>\n",
              "    <tr>\n",
              "      <th>3</th>\n",
              "      <td>24</td>\n",
              "      <td>Tuesday</td>\n",
              "      <td>Show-Up</td>\n",
              "      <td>0</td>\n",
              "      <td>0</td>\n",
              "      <td>0</td>\n",
              "      <td>0</td>\n",
              "      <td>0</td>\n",
              "      <td>0</td>\n",
              "      <td>-34</td>\n",
              "      <td>0</td>\n",
              "      <td>1</td>\n",
              "      <td>2014-04-02 13:53:37+00:00</td>\n",
              "      <td>2014-05-06 00:00:00+00:00</td>\n",
              "      <td>0</td>\n",
              "      <td>0</td>\n",
              "      <td>13</td>\n",
              "    </tr>\n",
              "    <tr>\n",
              "      <th>4</th>\n",
              "      <td>48</td>\n",
              "      <td>Thursday</td>\n",
              "      <td>Show-Up</td>\n",
              "      <td>0</td>\n",
              "      <td>0</td>\n",
              "      <td>0</td>\n",
              "      <td>0</td>\n",
              "      <td>0</td>\n",
              "      <td>0</td>\n",
              "      <td>-23</td>\n",
              "      <td>1</td>\n",
              "      <td>0</td>\n",
              "      <td>2014-01-07 10:07:17+00:00</td>\n",
              "      <td>2014-01-30 00:00:00+00:00</td>\n",
              "      <td>0</td>\n",
              "      <td>1</td>\n",
              "      <td>10</td>\n",
              "    </tr>\n",
              "  </tbody>\n",
              "</table>\n",
              "</div>\n",
              "      <button class=\"colab-df-convert\" onclick=\"convertToInteractive('df-ae6244f5-82f9-4af4-ae11-28e8c827329f')\"\n",
              "              title=\"Convert this dataframe to an interactive table.\"\n",
              "              style=\"display:none;\">\n",
              "        \n",
              "  <svg xmlns=\"http://www.w3.org/2000/svg\" height=\"24px\"viewBox=\"0 0 24 24\"\n",
              "       width=\"24px\">\n",
              "    <path d=\"M0 0h24v24H0V0z\" fill=\"none\"/>\n",
              "    <path d=\"M18.56 5.44l.94 2.06.94-2.06 2.06-.94-2.06-.94-.94-2.06-.94 2.06-2.06.94zm-11 1L8.5 8.5l.94-2.06 2.06-.94-2.06-.94L8.5 2.5l-.94 2.06-2.06.94zm10 10l.94 2.06.94-2.06 2.06-.94-2.06-.94-.94-2.06-.94 2.06-2.06.94z\"/><path d=\"M17.41 7.96l-1.37-1.37c-.4-.4-.92-.59-1.43-.59-.52 0-1.04.2-1.43.59L10.3 9.45l-7.72 7.72c-.78.78-.78 2.05 0 2.83L4 21.41c.39.39.9.59 1.41.59.51 0 1.02-.2 1.41-.59l7.78-7.78 2.81-2.81c.8-.78.8-2.07 0-2.86zM5.41 20L4 18.59l7.72-7.72 1.47 1.35L5.41 20z\"/>\n",
              "  </svg>\n",
              "      </button>\n",
              "      \n",
              "  <style>\n",
              "    .colab-df-container {\n",
              "      display:flex;\n",
              "      flex-wrap:wrap;\n",
              "      gap: 12px;\n",
              "    }\n",
              "\n",
              "    .colab-df-convert {\n",
              "      background-color: #E8F0FE;\n",
              "      border: none;\n",
              "      border-radius: 50%;\n",
              "      cursor: pointer;\n",
              "      display: none;\n",
              "      fill: #1967D2;\n",
              "      height: 32px;\n",
              "      padding: 0 0 0 0;\n",
              "      width: 32px;\n",
              "    }\n",
              "\n",
              "    .colab-df-convert:hover {\n",
              "      background-color: #E2EBFA;\n",
              "      box-shadow: 0px 1px 2px rgba(60, 64, 67, 0.3), 0px 1px 3px 1px rgba(60, 64, 67, 0.15);\n",
              "      fill: #174EA6;\n",
              "    }\n",
              "\n",
              "    [theme=dark] .colab-df-convert {\n",
              "      background-color: #3B4455;\n",
              "      fill: #D2E3FC;\n",
              "    }\n",
              "\n",
              "    [theme=dark] .colab-df-convert:hover {\n",
              "      background-color: #434B5C;\n",
              "      box-shadow: 0px 1px 3px 1px rgba(0, 0, 0, 0.15);\n",
              "      filter: drop-shadow(0px 1px 2px rgba(0, 0, 0, 0.3));\n",
              "      fill: #FFFFFF;\n",
              "    }\n",
              "  </style>\n",
              "\n",
              "      <script>\n",
              "        const buttonEl =\n",
              "          document.querySelector('#df-ae6244f5-82f9-4af4-ae11-28e8c827329f button.colab-df-convert');\n",
              "        buttonEl.style.display =\n",
              "          google.colab.kernel.accessAllowed ? 'block' : 'none';\n",
              "\n",
              "        async function convertToInteractive(key) {\n",
              "          const element = document.querySelector('#df-ae6244f5-82f9-4af4-ae11-28e8c827329f');\n",
              "          const dataTable =\n",
              "            await google.colab.kernel.invokeFunction('convertToInteractive',\n",
              "                                                     [key], {});\n",
              "          if (!dataTable) return;\n",
              "\n",
              "          const docLinkHtml = 'Like what you see? Visit the ' +\n",
              "            '<a target=\"_blank\" href=https://colab.research.google.com/notebooks/data_table.ipynb>data table notebook</a>'\n",
              "            + ' to learn more about interactive tables.';\n",
              "          element.innerHTML = '';\n",
              "          dataTable['output_type'] = 'display_data';\n",
              "          await google.colab.output.renderOutput(dataTable, element);\n",
              "          const docLink = document.createElement('div');\n",
              "          docLink.innerHTML = docLinkHtml;\n",
              "          element.appendChild(docLink);\n",
              "        }\n",
              "      </script>\n",
              "    </div>\n",
              "  </div>\n",
              "  "
            ]
          },
          "metadata": {},
          "execution_count": 13
        }
      ],
      "source": [
        "encoded.head()"
      ]
    },
    {
      "cell_type": "markdown",
      "metadata": {
        "id": "bN7d5psV4_lF"
      },
      "source": [
        "5.\tIdentify and remove outliers from Age. Explain using an appropriate plot."
      ]
    },
    {
      "cell_type": "code",
      "execution_count": 14,
      "metadata": {
        "colab": {
          "base_uri": "https://localhost:8080/",
          "height": 265
        },
        "id": "tujMGbnv9i5E",
        "outputId": "d4344b86-ec68-42c0-ddbe-d180afde163f"
      },
      "outputs": [
        {
          "output_type": "display_data",
          "data": {
            "text/plain": [
              "<Figure size 432x288 with 1 Axes>"
            ],
            "image/png": "[encoded data removed]"
          },
          "metadata": {
            "needs_background": "light"
          }
        }
      ],
      "source": [
        "import matplotlib.pyplot as plt\n",
        "\n",
        "plt.boxplot(encoded['Age'])\n",
        "plt.show()"
      ]
    },
    {
      "cell_type": "code",
      "execution_count": 15,
      "metadata": {
        "colab": {
          "base_uri": "https://localhost:8080/"
        },
        "id": "qVGrq2EK5Ytb",
        "outputId": "42068070-a41c-4c44-a01a-72946d48dd4d"
      },
      "outputs": [
        {
          "output_type": "execute_result",
          "data": {
            "text/plain": [
              "-1"
            ]
          },
          "metadata": {},
          "execution_count": 15
        }
      ],
      "source": [
        "encoded['Age'].min()"
      ]
    },
    {
      "cell_type": "code",
      "execution_count": 16,
      "metadata": {
        "colab": {
          "base_uri": "https://localhost:8080/"
        },
        "id": "mv5VQJRM7atw",
        "outputId": "26a92724-0bf7-43ee-89f7-12eb2250b6f8"
      },
      "outputs": [
        {
          "output_type": "execute_result",
          "data": {
            "text/plain": [
              "113"
            ]
          },
          "metadata": {},
          "execution_count": 16
        }
      ],
      "source": [
        "encoded['Age'].max()"
      ]
    },
    {
      "cell_type": "code",
      "execution_count": 17,
      "metadata": {
        "id": "yuj-ktlE-iNf"
      },
      "outputs": [],
      "source": [
        "filter_1=encoded[(encoded['Age']>encoded['Age'].quantile(q=0.25)) & (encoded['Age']<encoded['Age'].quantile(q=0.75))]"
      ]
    },
    {
      "cell_type": "code",
      "execution_count": 18,
      "metadata": {
        "colab": {
          "base_uri": "https://localhost:8080/"
        },
        "id": "QDyOdNh3-1X3",
        "outputId": "68164af5-c03a-4595-c8f0-12e58aa72ab1"
      },
      "outputs": [
        {
          "output_type": "execute_result",
          "data": {
            "text/plain": [
              "(102371, 17)"
            ]
          },
          "metadata": {},
          "execution_count": 18
        }
      ],
      "source": [
        "filter_1.shape"
      ]
    },
    {
      "cell_type": "markdown",
      "metadata": {
        "id": "CIBD46gA5DiC"
      },
      "source": [
        "6.\tAnalyse the probability of showing up with respect to different features. Create scatter plot and trend lines to analyse the relation between probability of showing up with respect to age/Houroftheday/awaitingtime. Describe your finding"
      ]
    },
    {
      "cell_type": "code",
      "source": [
        "from scipy.spatial import transform\n",
        "#encoding\n",
        "from sklearn.preprocessing import LabelEncoder\n",
        "filter_1['Status']=LabelEncoder().fit_transform(filter_1['Status'])"
      ],
      "metadata": {
        "id": "1I8AZCaqWM2y",
        "colab": {
          "base_uri": "https://localhost:8080/"
        },
        "outputId": "f06883d8-e403-4440-c593-c691ae779dbf"
      },
      "execution_count": 19,
      "outputs": [
        {
          "output_type": "stream",
          "name": "stderr",
          "text": [
            "<ipython-input-19-65bab934150a>:4: SettingWithCopyWarning: \n",
            "A value is trying to be set on a copy of a slice from a DataFrame.\n",
            "Try using .loc[row_indexer,col_indexer] = value instead\n",
            "\n",
            "See the caveats in the documentation: https://pandas.pydata.org/pandas-docs/stable/user_guide/indexing.html#returning-a-view-versus-a-copy\n",
            "  filter_1['Status']=LabelEncoder().fit_transform(filter_1['Status'])\n"
          ]
        }
      ]
    },
    {
      "cell_type": "code",
      "execution_count": 20,
      "metadata": {
        "colab": {
          "base_uri": "https://localhost:8080/",
          "height": 1000
        },
        "id": "0oYWvtX2_EPJ",
        "outputId": "a8fe7861-14a7-4c0c-9741-caff0d5faa7d"
      },
      "outputs": [
        {
          "output_type": "execute_result",
          "data": {
            "text/plain": [
              "<function matplotlib.pyplot.show(close=None, block=None)>"
            ]
          },
          "metadata": {},
          "execution_count": 20
        },
        {
          "output_type": "display_data",
          "data": {
            "text/plain": [
              "<Figure size 720x2160 with 3 Axes>"
            ],
            "image/png": "[encoded data removed]"
          },
          "metadata": {
            "needs_background": "light"
          }
        }
      ],
      "source": [
        "fig,axes=plt.subplots(3,1,figsize=(10,30))\n",
        "import seaborn as sns\n",
        "\n",
        "#scatter plot\n",
        "axes[0].scatter(filter_1['Age'],filter_1['Status'])\n",
        "axes[1].scatter(filter_1['HourOfTheDay'],filter_1['Status'])\n",
        "axes[2].scatter(filter_1['AwaitingTime'],filter_1['Status'])\n",
        "plt.show"
      ]
    },
    {
      "cell_type": "code",
      "execution_count": 21,
      "metadata": {
        "colab": {
          "base_uri": "https://localhost:8080/",
          "height": 265
        },
        "id": "EdsTVhNzFoIb",
        "outputId": "657f1d02-53d9-427e-ef18-24e1cd4d206b"
      },
      "outputs": [
        {
          "output_type": "display_data",
          "data": {
            "text/plain": [
              "<Figure size 432x288 with 1 Axes>"
            ],
            "image/png": "[encoded data removed]"
          },
          "metadata": {
            "needs_background": "light"
          }
        }
      ],
      "source": [
        "#Trend Line\n",
        "plt.plot(filter_1[['Age','HourOfTheDay','AwaitingTime','Status']].corr()['Status'])\n",
        "plt.show()"
      ]
    },
    {
      "cell_type": "markdown",
      "metadata": {
        "id": "NREzE59c_CYd"
      },
      "source": [
        "7.\tCreate a bar graph to depict probability of showing up for diabetes, alcoholism, hypertension, TB, smokes, scholarship."
      ]
    },
    {
      "cell_type": "code",
      "source": [
        "fig,axes=plt.subplots(6,1,figsize=(5,30))\n",
        "c=0\n",
        "for i in ['Diabetes', 'HiperTension','Smokes', 'Scholarship', 'Tuberculosis','Alcoholism']:\n",
        "  axes[c].hist(filter_1[filter_1[i]==0]['Status'])\n",
        "  axes[c].hist(filter_1[filter_1[i]==1]['Status'])\n",
        "  c+=1"
      ],
      "metadata": {
        "colab": {
          "base_uri": "https://localhost:8080/",
          "height": 1000
        },
        "id": "5s0qV0UpVMri",
        "outputId": "999f0d7f-f7d6-463b-cfee-447ffd210d5a"
      },
      "execution_count": 22,
      "outputs": [
        {
          "output_type": "display_data",
          "data": {
            "text/plain": [
              "<Figure size 360x2160 with 6 Axes>"
            ],
            "image/png": "[encoded data removed]"
          },
          "metadata": {
            "needs_background": "light"
          }
        }
      ]
    },
    {
      "cell_type": "markdown",
      "source": [
        "8.\tCreate separate bar graphs to show the probability of showing up for male and female, day of the week and sms reminder. Describe your interpretation. \n",
        "\n",
        "\n"
      ],
      "metadata": {
        "id": "d-AT21UIKvhv"
      }
    },
    {
      "cell_type": "code",
      "source": [
        "fig,axes=plt.subplots(4,1,figsize=(7,20))\n",
        "c=0\n",
        "for i in ['Gender_F', 'Gender_M','SMS_received', 'DayOfTheWeek']:\n",
        "  axes[c].hist(filter_1[filter_1['Status']==1][i])\n",
        "  axes[c].set_xticks(filter_1[i].unique())\n",
        "  axes[c].set_title(i)\n",
        "  c+=1"
      ],
      "metadata": {
        "colab": {
          "base_uri": "https://localhost:8080/",
          "height": 1000
        },
        "id": "nZPRWYVbVkjT",
        "outputId": "000e25b4-39b6-4ba0-8e88-d2aa82cbdde8"
      },
      "execution_count": 23,
      "outputs": [
        {
          "output_type": "display_data",
          "data": {
            "text/plain": [
              "<Figure size 504x1440 with 4 Axes>"
            ],
            "image/png": "[encoded data removed]"
          },
          "metadata": {
            "needs_background": "light"
          }
        }
      ]
    },
    {
      "cell_type": "code",
      "source": [
        "filter_1.info()"
      ],
      "metadata": {
        "colab": {
          "base_uri": "https://localhost:8080/"
        },
        "id": "ohYAcjiUPH5f",
        "outputId": "55abc958-da1d-48e4-85c9-be22de04e65c"
      },
      "execution_count": 24,
      "outputs": [
        {
          "output_type": "stream",
          "name": "stdout",
          "text": [
            "<class 'pandas.core.frame.DataFrame'>\n",
            "Int64Index: 102371 entries, 0 to 209996\n",
            "Data columns (total 17 columns):\n",
            " #   Column                Non-Null Count   Dtype              \n",
            "---  ------                --------------   -----              \n",
            " 0   Age                   102371 non-null  int64              \n",
            " 1   DayOfTheWeek          102371 non-null  object             \n",
            " 2   Status                102371 non-null  int64              \n",
            " 3   Diabetes              102371 non-null  int64              \n",
            " 4   HiperTension          102371 non-null  int64              \n",
            " 5   Handcap               102371 non-null  int64              \n",
            " 6   Smokes                102371 non-null  int64              \n",
            " 7   Scholarship           102371 non-null  int64              \n",
            " 8   Tuberculosis          102371 non-null  int64              \n",
            " 9   AwaitingTime          102371 non-null  int64              \n",
            " 10  Gender_F              102371 non-null  uint8              \n",
            " 11  Gender_M              102371 non-null  uint8              \n",
            " 12  DataMarcacaoConsulta  102371 non-null  datetime64[ns, UTC]\n",
            " 13  DataAgendamento       102371 non-null  datetime64[ns, UTC]\n",
            " 14  Alcoholism            102371 non-null  int64              \n",
            " 15  SMS_received          102371 non-null  int64              \n",
            " 16  HourOfTheDay          102371 non-null  int64              \n",
            "dtypes: datetime64[ns, UTC](2), int64(12), object(1), uint8(2)\n",
            "memory usage: 12.7+ MB\n"
          ]
        }
      ]
    },
    {
      "cell_type": "code",
      "source": [
        "from sklearn.preprocessing import LabelEncoder\n",
        "filter_1['DayOfTheWeek']=LabelEncoder().fit_transform(filter_1.loc[:,'DayOfTheWeek'])"
      ],
      "metadata": {
        "id": "_Qc7uPypUPqx",
        "colab": {
          "base_uri": "https://localhost:8080/"
        },
        "outputId": "f86262bf-affc-4e1e-dd3b-305a3adc998c"
      },
      "execution_count": 25,
      "outputs": [
        {
          "output_type": "stream",
          "name": "stderr",
          "text": [
            "<ipython-input-25-abb14a23796e>:2: SettingWithCopyWarning: \n",
            "A value is trying to be set on a copy of a slice from a DataFrame.\n",
            "Try using .loc[row_indexer,col_indexer] = value instead\n",
            "\n",
            "See the caveats in the documentation: https://pandas.pydata.org/pandas-docs/stable/user_guide/indexing.html#returning-a-view-versus-a-copy\n",
            "  filter_1['DayOfTheWeek']=LabelEncoder().fit_transform(filter_1.loc[:,'DayOfTheWeek'])\n"
          ]
        }
      ]
    },
    {
      "cell_type": "markdown",
      "source": [
        "Feature Extraction"
      ],
      "metadata": {
        "id": "XY6edNbqZe6A"
      }
    },
    {
      "cell_type": "code",
      "source": [
        "filter_1=filter_1.reset_index().drop('index',axis=1)\n",
        "filter_1['HourOfTheDay_AM']=(filter_1['HourOfTheDay']<12).replace({True:1,False:0})\n",
        "filter_1['HourOfTheDay_PM']=(filter_1['HourOfTheDay']>12).replace({True:1,False:0})"
      ],
      "metadata": {
        "id": "NQ2vPh3otzvX"
      },
      "execution_count": 26,
      "outputs": []
    },
    {
      "cell_type": "markdown",
      "source": [
        "Probability  Prediction\n"
      ],
      "metadata": {
        "id": "TOIcf5V2xpOd"
      }
    },
    {
      "cell_type": "code",
      "source": [
        "def log_prob_prediction(x,y):\n",
        "  from sklearn.linear_model import LogisticRegression\n",
        "  pred=LogisticRegression().fit(x,y).predict_proba(x)\n",
        "  return (pred)"
      ],
      "metadata": {
        "id": "h4wdAGVifzGR"
      },
      "execution_count": 27,
      "outputs": []
    },
    {
      "cell_type": "code",
      "source": [
        "x=filter_1.drop(['Status'],axis=1)\n",
        "y=filter_1['Status']"
      ],
      "metadata": {
        "id": "9_F-y4MAUuSB"
      },
      "execution_count": 28,
      "outputs": []
    },
    {
      "cell_type": "code",
      "source": [
        "x_=filter_1[['Age','Diabetes','Alcoholism','HiperTension','Smokes','Scholarship','Tuberculosis']]\n",
        "y_=filter_1['Status']"
      ],
      "metadata": {
        "id": "3GZ23-y_icTe"
      },
      "execution_count": 29,
      "outputs": []
    },
    {
      "cell_type": "code",
      "source": [
        "log_prob_prediction(x_,y_)"
      ],
      "metadata": {
        "id": "QE71DhUFfoD5",
        "colab": {
          "base_uri": "https://localhost:8080/"
        },
        "outputId": "e549e919-b1cc-4c5a-adbd-b38ba5364e68"
      },
      "execution_count": 30,
      "outputs": [
        {
          "output_type": "execute_result",
          "data": {
            "text/plain": [
              "array([[0.36351409, 0.63648591],\n",
              "       [0.35484145, 0.64515855],\n",
              "       [0.36712167, 0.63287833],\n",
              "       ...,\n",
              "       [0.25407674, 0.74592326],\n",
              "       [0.25745478, 0.74254522],\n",
              "       [0.37341891, 0.62658109]])"
            ]
          },
          "metadata": {},
          "execution_count": 30
        }
      ]
    }
  ],
  "metadata": {
    "colab": {
      "provenance": []
    },
    "kernelspec": {
      "display_name": "Python 3",
      "name": "python3"
    },
    "language_info": {
      "name": "python"
    }
  },
  "nbformat": 4,
  "nbformat_minor": 0
}