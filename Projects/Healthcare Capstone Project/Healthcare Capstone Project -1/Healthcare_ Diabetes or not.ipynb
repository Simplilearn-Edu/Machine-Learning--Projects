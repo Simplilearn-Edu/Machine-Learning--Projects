{
  "cells": [
    {
      "cell_type": "code",
      "execution_count": 1,
      "metadata": {
        "id": "AVmv5l-yycrd"
      },
      "outputs": [],
      "source": [
        "import pandas as pd\n",
        "dataset=pd.read_csv('/content/drive/MyDrive/New folder/Project_2/Project 2/Healthcare - Diabetes/health care diabetes.csv')"
      ]
    },
    {
      "cell_type": "code",
      "execution_count": 2,
      "metadata": {
        "colab": {
          "base_uri": "https://localhost:8080/",
          "height": 206
        },
        "id": "4t96TMPOz06P",
        "outputId": "5d24e20d-e82f-460b-c386-b6a375d8efe6"
      },
      "outputs": [
        {
          "output_type": "execute_result",
          "data": {
            "text/plain": [
              "   Pregnancies  Glucose  BloodPressure  SkinThickness  Insulin   BMI  \\\n",
              "0            6      148             72             35        0  33.6   \n",
              "1            1       85             66             29        0  26.6   \n",
              "2            8      183             64              0        0  23.3   \n",
              "3            1       89             66             23       94  28.1   \n",
              "4            0      137             40             35      168  43.1   \n",
              "\n",
              "   DiabetesPedigreeFunction  Age  Outcome  \n",
              "0                     0.627   50        1  \n",
              "1                     0.351   31        0  \n",
              "2                     0.672   32        1  \n",
              "3                     0.167   21        0  \n",
              "4                     2.288   33        1  "
            ],
            "text/html": [
              "\n",
              "  <div id=\"df-4903b2f1-5c9a-41d3-8a34-4e0dc34d1605\">\n",
              "    <div class=\"colab-df-container\">\n",
              "      <div>\n",
              "<style scoped>\n",
              "    .dataframe tbody tr th:only-of-type {\n",
              "        vertical-align: middle;\n",
              "    }\n",
              "\n",
              "    .dataframe tbody tr th {\n",
              "        vertical-align: top;\n",
              "    }\n",
              "\n",
              "    .dataframe thead th {\n",
              "        text-align: right;\n",
              "    }\n",
              "</style>\n",
              "<table border=\"1\" class=\"dataframe\">\n",
              "  <thead>\n",
              "    <tr style=\"text-align: right;\">\n",
              "      <th></th>\n",
              "      <th>Pregnancies</th>\n",
              "      <th>Glucose</th>\n",
              "      <th>BloodPressure</th>\n",
              "      <th>SkinThickness</th>\n",
              "      <th>Insulin</th>\n",
              "      <th>BMI</th>\n",
              "      <th>DiabetesPedigreeFunction</th>\n",
              "      <th>Age</th>\n",
              "      <th>Outcome</th>\n",
              "    </tr>\n",
              "  </thead>\n",
              "  <tbody>\n",
              "    <tr>\n",
              "      <th>0</th>\n",
              "      <td>6</td>\n",
              "      <td>148</td>\n",
              "      <td>72</td>\n",
              "      <td>35</td>\n",
              "      <td>0</td>\n",
              "      <td>33.6</td>\n",
              "      <td>0.627</td>\n",
              "      <td>50</td>\n",
              "      <td>1</td>\n",
              "    </tr>\n",
              "    <tr>\n",
              "      <th>1</th>\n",
              "      <td>1</td>\n",
              "      <td>85</td>\n",
              "      <td>66</td>\n",
              "      <td>29</td>\n",
              "      <td>0</td>\n",
              "      <td>26.6</td>\n",
              "      <td>0.351</td>\n",
              "      <td>31</td>\n",
              "      <td>0</td>\n",
              "    </tr>\n",
              "    <tr>\n",
              "      <th>2</th>\n",
              "      <td>8</td>\n",
              "      <td>183</td>\n",
              "      <td>64</td>\n",
              "      <td>0</td>\n",
              "      <td>0</td>\n",
              "      <td>23.3</td>\n",
              "      <td>0.672</td>\n",
              "      <td>32</td>\n",
              "      <td>1</td>\n",
              "    </tr>\n",
              "    <tr>\n",
              "      <th>3</th>\n",
              "      <td>1</td>\n",
              "      <td>89</td>\n",
              "      <td>66</td>\n",
              "      <td>23</td>\n",
              "      <td>94</td>\n",
              "      <td>28.1</td>\n",
              "      <td>0.167</td>\n",
              "      <td>21</td>\n",
              "      <td>0</td>\n",
              "    </tr>\n",
              "    <tr>\n",
              "      <th>4</th>\n",
              "      <td>0</td>\n",
              "      <td>137</td>\n",
              "      <td>40</td>\n",
              "      <td>35</td>\n",
              "      <td>168</td>\n",
              "      <td>43.1</td>\n",
              "      <td>2.288</td>\n",
              "      <td>33</td>\n",
              "      <td>1</td>\n",
              "    </tr>\n",
              "  </tbody>\n",
              "</table>\n",
              "</div>\n",
              "      <button class=\"colab-df-convert\" onclick=\"convertToInteractive('df-4903b2f1-5c9a-41d3-8a34-4e0dc34d1605')\"\n",
              "              title=\"Convert this dataframe to an interactive table.\"\n",
              "              style=\"display:none;\">\n",
              "        \n",
              "  <svg xmlns=\"http://www.w3.org/2000/svg\" height=\"24px\"viewBox=\"0 0 24 24\"\n",
              "       width=\"24px\">\n",
              "    <path d=\"M0 0h24v24H0V0z\" fill=\"none\"/>\n",
              "    <path d=\"M18.56 5.44l.94 2.06.94-2.06 2.06-.94-2.06-.94-.94-2.06-.94 2.06-2.06.94zm-11 1L8.5 8.5l.94-2.06 2.06-.94-2.06-.94L8.5 2.5l-.94 2.06-2.06.94zm10 10l.94 2.06.94-2.06 2.06-.94-2.06-.94-.94-2.06-.94 2.06-2.06.94z\"/><path d=\"M17.41 7.96l-1.37-1.37c-.4-.4-.92-.59-1.43-.59-.52 0-1.04.2-1.43.59L10.3 9.45l-7.72 7.72c-.78.78-.78 2.05 0 2.83L4 21.41c.39.39.9.59 1.41.59.51 0 1.02-.2 1.41-.59l7.78-7.78 2.81-2.81c.8-.78.8-2.07 0-2.86zM5.41 20L4 18.59l7.72-7.72 1.47 1.35L5.41 20z\"/>\n",
              "  </svg>\n",
              "      </button>\n",
              "      \n",
              "  <style>\n",
              "    .colab-df-container {\n",
              "      display:flex;\n",
              "      flex-wrap:wrap;\n",
              "      gap: 12px;\n",
              "    }\n",
              "\n",
              "    .colab-df-convert {\n",
              "      background-color: #E8F0FE;\n",
              "      border: none;\n",
              "      border-radius: 50%;\n",
              "      cursor: pointer;\n",
              "      display: none;\n",
              "      fill: #1967D2;\n",
              "      height: 32px;\n",
              "      padding: 0 0 0 0;\n",
              "      width: 32px;\n",
              "    }\n",
              "\n",
              "    .colab-df-convert:hover {\n",
              "      background-color: #E2EBFA;\n",
              "      box-shadow: 0px 1px 2px rgba(60, 64, 67, 0.3), 0px 1px 3px 1px rgba(60, 64, 67, 0.15);\n",
              "      fill: #174EA6;\n",
              "    }\n",
              "\n",
              "    [theme=dark] .colab-df-convert {\n",
              "      background-color: #3B4455;\n",
              "      fill: #D2E3FC;\n",
              "    }\n",
              "\n",
              "    [theme=dark] .colab-df-convert:hover {\n",
              "      background-color: #434B5C;\n",
              "      box-shadow: 0px 1px 3px 1px rgba(0, 0, 0, 0.15);\n",
              "      filter: drop-shadow(0px 1px 2px rgba(0, 0, 0, 0.3));\n",
              "      fill: #FFFFFF;\n",
              "    }\n",
              "  </style>\n",
              "\n",
              "      <script>\n",
              "        const buttonEl =\n",
              "          document.querySelector('#df-4903b2f1-5c9a-41d3-8a34-4e0dc34d1605 button.colab-df-convert');\n",
              "        buttonEl.style.display =\n",
              "          google.colab.kernel.accessAllowed ? 'block' : 'none';\n",
              "\n",
              "        async function convertToInteractive(key) {\n",
              "          const element = document.querySelector('#df-4903b2f1-5c9a-41d3-8a34-4e0dc34d1605');\n",
              "          const dataTable =\n",
              "            await google.colab.kernel.invokeFunction('convertToInteractive',\n",
              "                                                     [key], {});\n",
              "          if (!dataTable) return;\n",
              "\n",
              "          const docLinkHtml = 'Like what you see? Visit the ' +\n",
              "            '<a target=\"_blank\" href=https://colab.research.google.com/notebooks/data_table.ipynb>data table notebook</a>'\n",
              "            + ' to learn more about interactive tables.';\n",
              "          element.innerHTML = '';\n",
              "          dataTable['output_type'] = 'display_data';\n",
              "          await google.colab.output.renderOutput(dataTable, element);\n",
              "          const docLink = document.createElement('div');\n",
              "          docLink.innerHTML = docLinkHtml;\n",
              "          element.appendChild(docLink);\n",
              "        }\n",
              "      </script>\n",
              "    </div>\n",
              "  </div>\n",
              "  "
            ]
          },
          "metadata": {},
          "execution_count": 2
        }
      ],
      "source": [
        "dataset.head()"
      ]
    },
    {
      "cell_type": "code",
      "execution_count": 3,
      "metadata": {
        "colab": {
          "base_uri": "https://localhost:8080/"
        },
        "id": "9mJ55OfGz2fw",
        "outputId": "b2ad6c8b-0eff-4b35-eb2a-9174db7e802c"
      },
      "outputs": [
        {
          "output_type": "execute_result",
          "data": {
            "text/plain": [
              "Index(['Pregnancies', 'Glucose', 'BloodPressure', 'SkinThickness', 'Insulin',\n",
              "       'BMI', 'DiabetesPedigreeFunction', 'Age', 'Outcome'],\n",
              "      dtype='object')"
            ]
          },
          "metadata": {},
          "execution_count": 3
        }
      ],
      "source": [
        "dataset.columns"
      ]
    },
    {
      "cell_type": "markdown",
      "metadata": {
        "id": "hPSOPsyR3M9o"
      },
      "source": [
        "\n",
        "1.\tPerform descriptive analysis. It is very important to understand the variables and corresponding values. We need to think through - Can minimum value of below listed columns be zero (0)? On these columns, a value of zero does not make sense and thus indicates missing value\n"
      ]
    },
    {
      "cell_type": "code",
      "execution_count": 4,
      "metadata": {
        "colab": {
          "base_uri": "https://localhost:8080/",
          "height": 423
        },
        "id": "bCqyGdUez4SX",
        "outputId": "f954bfff-a0de-4268-885f-55286bb36172"
      },
      "outputs": [
        {
          "output_type": "execute_result",
          "data": {
            "text/plain": [
              "     Pregnancies  Glucose  BloodPressure  SkinThickness  Insulin   BMI  \\\n",
              "0            6.0    148.0           72.0           35.0      NaN  33.6   \n",
              "1            1.0     85.0           66.0           29.0      NaN  26.6   \n",
              "2            8.0    183.0           64.0            NaN      NaN  23.3   \n",
              "3            1.0     89.0           66.0           23.0     94.0  28.1   \n",
              "4            NaN    137.0           40.0           35.0    168.0  43.1   \n",
              "..           ...      ...            ...            ...      ...   ...   \n",
              "763         10.0    101.0           76.0           48.0    180.0  32.9   \n",
              "764          2.0    122.0           70.0           27.0      NaN  36.8   \n",
              "765          5.0    121.0           72.0           23.0    112.0  26.2   \n",
              "766          1.0    126.0           60.0            NaN      NaN  30.1   \n",
              "767          1.0     93.0           70.0           31.0      NaN  30.4   \n",
              "\n",
              "     DiabetesPedigreeFunction  Age  Outcome  \n",
              "0                       0.627   50      1.0  \n",
              "1                       0.351   31      NaN  \n",
              "2                       0.672   32      1.0  \n",
              "3                       0.167   21      NaN  \n",
              "4                       2.288   33      1.0  \n",
              "..                        ...  ...      ...  \n",
              "763                     0.171   63      NaN  \n",
              "764                     0.340   27      NaN  \n",
              "765                     0.245   30      NaN  \n",
              "766                     0.349   47      1.0  \n",
              "767                     0.315   23      NaN  \n",
              "\n",
              "[768 rows x 9 columns]"
            ],
            "text/html": [
              "\n",
              "  <div id=\"df-3bf0a757-7e63-4e6e-a4b8-6f938a06eb01\">\n",
              "    <div class=\"colab-df-container\">\n",
              "      <div>\n",
              "<style scoped>\n",
              "    .dataframe tbody tr th:only-of-type {\n",
              "        vertical-align: middle;\n",
              "    }\n",
              "\n",
              "    .dataframe tbody tr th {\n",
              "        vertical-align: top;\n",
              "    }\n",
              "\n",
              "    .dataframe thead th {\n",
              "        text-align: right;\n",
              "    }\n",
              "</style>\n",
              "<table border=\"1\" class=\"dataframe\">\n",
              "  <thead>\n",
              "    <tr style=\"text-align: right;\">\n",
              "      <th></th>\n",
              "      <th>Pregnancies</th>\n",
              "      <th>Glucose</th>\n",
              "      <th>BloodPressure</th>\n",
              "      <th>SkinThickness</th>\n",
              "      <th>Insulin</th>\n",
              "      <th>BMI</th>\n",
              "      <th>DiabetesPedigreeFunction</th>\n",
              "      <th>Age</th>\n",
              "      <th>Outcome</th>\n",
              "    </tr>\n",
              "  </thead>\n",
              "  <tbody>\n",
              "    <tr>\n",
              "      <th>0</th>\n",
              "      <td>6.0</td>\n",
              "      <td>148.0</td>\n",
              "      <td>72.0</td>\n",
              "      <td>35.0</td>\n",
              "      <td>NaN</td>\n",
              "      <td>33.6</td>\n",
              "      <td>0.627</td>\n",
              "      <td>50</td>\n",
              "      <td>1.0</td>\n",
              "    </tr>\n",
              "    <tr>\n",
              "      <th>1</th>\n",
              "      <td>1.0</td>\n",
              "      <td>85.0</td>\n",
              "      <td>66.0</td>\n",
              "      <td>29.0</td>\n",
              "      <td>NaN</td>\n",
              "      <td>26.6</td>\n",
              "      <td>0.351</td>\n",
              "      <td>31</td>\n",
              "      <td>NaN</td>\n",
              "    </tr>\n",
              "    <tr>\n",
              "      <th>2</th>\n",
              "      <td>8.0</td>\n",
              "      <td>183.0</td>\n",
              "      <td>64.0</td>\n",
              "      <td>NaN</td>\n",
              "      <td>NaN</td>\n",
              "      <td>23.3</td>\n",
              "      <td>0.672</td>\n",
              "      <td>32</td>\n",
              "      <td>1.0</td>\n",
              "    </tr>\n",
              "    <tr>\n",
              "      <th>3</th>\n",
              "      <td>1.0</td>\n",
              "      <td>89.0</td>\n",
              "      <td>66.0</td>\n",
              "      <td>23.0</td>\n",
              "      <td>94.0</td>\n",
              "      <td>28.1</td>\n",
              "      <td>0.167</td>\n",
              "      <td>21</td>\n",
              "      <td>NaN</td>\n",
              "    </tr>\n",
              "    <tr>\n",
              "      <th>4</th>\n",
              "      <td>NaN</td>\n",
              "      <td>137.0</td>\n",
              "      <td>40.0</td>\n",
              "      <td>35.0</td>\n",
              "      <td>168.0</td>\n",
              "      <td>43.1</td>\n",
              "      <td>2.288</td>\n",
              "      <td>33</td>\n",
              "      <td>1.0</td>\n",
              "    </tr>\n",
              "    <tr>\n",
              "      <th>...</th>\n",
              "      <td>...</td>\n",
              "      <td>...</td>\n",
              "      <td>...</td>\n",
              "      <td>...</td>\n",
              "      <td>...</td>\n",
              "      <td>...</td>\n",
              "      <td>...</td>\n",
              "      <td>...</td>\n",
              "      <td>...</td>\n",
              "    </tr>\n",
              "    <tr>\n",
              "      <th>763</th>\n",
              "      <td>10.0</td>\n",
              "      <td>101.0</td>\n",
              "      <td>76.0</td>\n",
              "      <td>48.0</td>\n",
              "      <td>180.0</td>\n",
              "      <td>32.9</td>\n",
              "      <td>0.171</td>\n",
              "      <td>63</td>\n",
              "      <td>NaN</td>\n",
              "    </tr>\n",
              "    <tr>\n",
              "      <th>764</th>\n",
              "      <td>2.0</td>\n",
              "      <td>122.0</td>\n",
              "      <td>70.0</td>\n",
              "      <td>27.0</td>\n",
              "      <td>NaN</td>\n",
              "      <td>36.8</td>\n",
              "      <td>0.340</td>\n",
              "      <td>27</td>\n",
              "      <td>NaN</td>\n",
              "    </tr>\n",
              "    <tr>\n",
              "      <th>765</th>\n",
              "      <td>5.0</td>\n",
              "      <td>121.0</td>\n",
              "      <td>72.0</td>\n",
              "      <td>23.0</td>\n",
              "      <td>112.0</td>\n",
              "      <td>26.2</td>\n",
              "      <td>0.245</td>\n",
              "      <td>30</td>\n",
              "      <td>NaN</td>\n",
              "    </tr>\n",
              "    <tr>\n",
              "      <th>766</th>\n",
              "      <td>1.0</td>\n",
              "      <td>126.0</td>\n",
              "      <td>60.0</td>\n",
              "      <td>NaN</td>\n",
              "      <td>NaN</td>\n",
              "      <td>30.1</td>\n",
              "      <td>0.349</td>\n",
              "      <td>47</td>\n",
              "      <td>1.0</td>\n",
              "    </tr>\n",
              "    <tr>\n",
              "      <th>767</th>\n",
              "      <td>1.0</td>\n",
              "      <td>93.0</td>\n",
              "      <td>70.0</td>\n",
              "      <td>31.0</td>\n",
              "      <td>NaN</td>\n",
              "      <td>30.4</td>\n",
              "      <td>0.315</td>\n",
              "      <td>23</td>\n",
              "      <td>NaN</td>\n",
              "    </tr>\n",
              "  </tbody>\n",
              "</table>\n",
              "<p>768 rows × 9 columns</p>\n",
              "</div>\n",
              "      <button class=\"colab-df-convert\" onclick=\"convertToInteractive('df-3bf0a757-7e63-4e6e-a4b8-6f938a06eb01')\"\n",
              "              title=\"Convert this dataframe to an interactive table.\"\n",
              "              style=\"display:none;\">\n",
              "        \n",
              "  <svg xmlns=\"http://www.w3.org/2000/svg\" height=\"24px\"viewBox=\"0 0 24 24\"\n",
              "       width=\"24px\">\n",
              "    <path d=\"M0 0h24v24H0V0z\" fill=\"none\"/>\n",
              "    <path d=\"M18.56 5.44l.94 2.06.94-2.06 2.06-.94-2.06-.94-.94-2.06-.94 2.06-2.06.94zm-11 1L8.5 8.5l.94-2.06 2.06-.94-2.06-.94L8.5 2.5l-.94 2.06-2.06.94zm10 10l.94 2.06.94-2.06 2.06-.94-2.06-.94-.94-2.06-.94 2.06-2.06.94z\"/><path d=\"M17.41 7.96l-1.37-1.37c-.4-.4-.92-.59-1.43-.59-.52 0-1.04.2-1.43.59L10.3 9.45l-7.72 7.72c-.78.78-.78 2.05 0 2.83L4 21.41c.39.39.9.59 1.41.59.51 0 1.02-.2 1.41-.59l7.78-7.78 2.81-2.81c.8-.78.8-2.07 0-2.86zM5.41 20L4 18.59l7.72-7.72 1.47 1.35L5.41 20z\"/>\n",
              "  </svg>\n",
              "      </button>\n",
              "      \n",
              "  <style>\n",
              "    .colab-df-container {\n",
              "      display:flex;\n",
              "      flex-wrap:wrap;\n",
              "      gap: 12px;\n",
              "    }\n",
              "\n",
              "    .colab-df-convert {\n",
              "      background-color: #E8F0FE;\n",
              "      border: none;\n",
              "      border-radius: 50%;\n",
              "      cursor: pointer;\n",
              "      display: none;\n",
              "      fill: #1967D2;\n",
              "      height: 32px;\n",
              "      padding: 0 0 0 0;\n",
              "      width: 32px;\n",
              "    }\n",
              "\n",
              "    .colab-df-convert:hover {\n",
              "      background-color: #E2EBFA;\n",
              "      box-shadow: 0px 1px 2px rgba(60, 64, 67, 0.3), 0px 1px 3px 1px rgba(60, 64, 67, 0.15);\n",
              "      fill: #174EA6;\n",
              "    }\n",
              "\n",
              "    [theme=dark] .colab-df-convert {\n",
              "      background-color: #3B4455;\n",
              "      fill: #D2E3FC;\n",
              "    }\n",
              "\n",
              "    [theme=dark] .colab-df-convert:hover {\n",
              "      background-color: #434B5C;\n",
              "      box-shadow: 0px 1px 3px 1px rgba(0, 0, 0, 0.15);\n",
              "      filter: drop-shadow(0px 1px 2px rgba(0, 0, 0, 0.3));\n",
              "      fill: #FFFFFF;\n",
              "    }\n",
              "  </style>\n",
              "\n",
              "      <script>\n",
              "        const buttonEl =\n",
              "          document.querySelector('#df-3bf0a757-7e63-4e6e-a4b8-6f938a06eb01 button.colab-df-convert');\n",
              "        buttonEl.style.display =\n",
              "          google.colab.kernel.accessAllowed ? 'block' : 'none';\n",
              "\n",
              "        async function convertToInteractive(key) {\n",
              "          const element = document.querySelector('#df-3bf0a757-7e63-4e6e-a4b8-6f938a06eb01');\n",
              "          const dataTable =\n",
              "            await google.colab.kernel.invokeFunction('convertToInteractive',\n",
              "                                                     [key], {});\n",
              "          if (!dataTable) return;\n",
              "\n",
              "          const docLinkHtml = 'Like what you see? Visit the ' +\n",
              "            '<a target=\"_blank\" href=https://colab.research.google.com/notebooks/data_table.ipynb>data table notebook</a>'\n",
              "            + ' to learn more about interactive tables.';\n",
              "          element.innerHTML = '';\n",
              "          dataTable['output_type'] = 'display_data';\n",
              "          await google.colab.output.renderOutput(dataTable, element);\n",
              "          const docLink = document.createElement('div');\n",
              "          docLink.innerHTML = docLinkHtml;\n",
              "          element.appendChild(docLink);\n",
              "        }\n",
              "      </script>\n",
              "    </div>\n",
              "  </div>\n",
              "  "
            ]
          },
          "metadata": {},
          "execution_count": 4
        }
      ],
      "source": [
        "import numpy as np\n",
        "dataset.replace(0,np.nan)"
      ]
    },
    {
      "cell_type": "code",
      "execution_count": 5,
      "metadata": {
        "colab": {
          "base_uri": "https://localhost:8080/"
        },
        "id": "OVpKquQkz5_c",
        "outputId": "d526dc65-9dbb-4a6e-f65b-5daeaeeae0fc"
      },
      "outputs": [
        {
          "output_type": "execute_result",
          "data": {
            "text/plain": [
              "False"
            ]
          },
          "metadata": {},
          "execution_count": 5
        }
      ],
      "source": [
        "dataset.duplicated().all()"
      ]
    },
    {
      "cell_type": "markdown",
      "metadata": {
        "id": "7fXZWF816Zyg"
      },
      "source": [
        "2.\tVisually explore these variable, you may need to look for the distribution of these variables using histograms. Treat the missing values accordingly."
      ]
    },
    {
      "cell_type": "code",
      "execution_count": 6,
      "metadata": {
        "colab": {
          "base_uri": "https://localhost:8080/",
          "height": 1000
        },
        "id": "dhrMFRO_z82J",
        "outputId": "4fcdad32-f9b0-4e03-8cc2-39321688445a"
      },
      "outputs": [
        {
          "output_type": "execute_result",
          "data": {
            "text/plain": [
              "Text(0.5, 1.0, 'Outcome')"
            ]
          },
          "metadata": {},
          "execution_count": 6
        },
        {
          "output_type": "display_data",
          "data": {
            "text/plain": [
              "<Figure size 1296x1296 with 9 Axes>"
            ],
            "image/png": "[encoded data removed]"
          },
          "metadata": {
            "needs_background": "light"
          }
        }
      ],
      "source": [
        "import matplotlib.pyplot as plt\n",
        "\n",
        "fig,axes=plt.subplots(3,3,figsize=(18,18))\n",
        "axes[0][0].hist(dataset.iloc[:,0])\n",
        "axes[0][0].set_title(dataset.columns[0])\n",
        "axes[0][1].hist(dataset.iloc[:,1])\n",
        "axes[0][1].set_title(dataset.columns[1])\n",
        "axes[0][2].hist(dataset.iloc[:,2])\n",
        "axes[0][2].set_title(dataset.columns[2])\n",
        "axes[1][0].hist(dataset.iloc[:,3])\n",
        "axes[1][0].set_title(dataset.columns[3])\n",
        "axes[1][1].hist(dataset.iloc[:,4])\n",
        "axes[1][1].set_title(dataset.columns[4])\n",
        "axes[1][2].hist(dataset.iloc[:,5])\n",
        "axes[1][2].set_title(dataset.columns[5])\n",
        "axes[2][0].hist(dataset.iloc[:,6])\n",
        "axes[2][0].set_title(dataset.columns[6])\n",
        "axes[2][1].hist(dataset.iloc[:,7])\n",
        "axes[2][1].set_title(dataset.columns[7])\n",
        "axes[2][2].hist(dataset.iloc[:,8])\n",
        "axes[2][2].set_title(dataset.columns[8])"
      ]
    },
    {
      "cell_type": "code",
      "execution_count": 7,
      "metadata": {
        "id": "baQx7rdk4LPm"
      },
      "outputs": [],
      "source": [
        "from sklearn.impute import SimpleImputer\n",
        "new=SimpleImputer().fit_transform(dataset)"
      ]
    },
    {
      "cell_type": "code",
      "execution_count": 8,
      "metadata": {
        "colab": {
          "base_uri": "https://localhost:8080/"
        },
        "id": "U4UMBiYzd5z-",
        "outputId": "a8ecdc3b-fe7e-4309-9f4c-4b0145dc56cc"
      },
      "outputs": [
        {
          "output_type": "execute_result",
          "data": {
            "text/plain": [
              "Pregnancies                 0\n",
              "Glucose                     0\n",
              "BloodPressure               0\n",
              "SkinThickness               0\n",
              "Insulin                     0\n",
              "BMI                         0\n",
              "DiabetesPedigreeFunction    0\n",
              "Age                         0\n",
              "Outcome                     0\n",
              "dtype: int64"
            ]
          },
          "metadata": {},
          "execution_count": 8
        }
      ],
      "source": [
        "dataset=pd.DataFrame(new,columns=dataset.columns)\n",
        "dataset.isnull().sum()"
      ]
    },
    {
      "cell_type": "code",
      "execution_count": 9,
      "metadata": {
        "colab": {
          "base_uri": "https://localhost:8080/"
        },
        "id": "0pwmCBQGnX_0",
        "outputId": "714b6085-cc5d-493b-9258-756a3c895680"
      },
      "outputs": [
        {
          "output_type": "execute_result",
          "data": {
            "text/plain": [
              "81.0"
            ]
          },
          "metadata": {},
          "execution_count": 9
        }
      ],
      "source": [
        "dataset['Age'].max()"
      ]
    },
    {
      "cell_type": "markdown",
      "metadata": {
        "id": "u9nSdpNfeggY"
      },
      "source": [
        "We observe integer as well as float data-type of variables in this dataset. Create a count (frequency) plot describing the data types and the count of variables. "
      ]
    },
    {
      "cell_type": "code",
      "execution_count": 10,
      "metadata": {
        "colab": {
          "base_uri": "https://localhost:8080/",
          "height": 265
        },
        "id": "bYVzqUMHd9xH",
        "outputId": "b409bbe9-f628-4491-d4dd-ecef17302b60"
      },
      "outputs": [
        {
          "output_type": "display_data",
          "data": {
            "text/plain": [
              "<Figure size 432x288 with 1 Axes>"
            ],
            "image/png": "[encoded data removed]"
          },
          "metadata": {
            "needs_background": "light"
          }
        }
      ],
      "source": [
        "plt.bar('float64',dataset.dtypes.size,width=[0.6])\n",
        "plt.show()"
      ]
    },
    {
      "cell_type": "code",
      "execution_count": 11,
      "metadata": {
        "colab": {
          "base_uri": "https://localhost:8080/"
        },
        "id": "TNYoJfLTosZz",
        "outputId": "3e86b901-1226-40d7-aeec-47a285f2f305"
      },
      "outputs": [
        {
          "output_type": "execute_result",
          "data": {
            "text/plain": [
              "Pregnancies                 float64\n",
              "Glucose                     float64\n",
              "BloodPressure               float64\n",
              "SkinThickness               float64\n",
              "Insulin                     float64\n",
              "BMI                         float64\n",
              "DiabetesPedigreeFunction    float64\n",
              "Age                         float64\n",
              "Outcome                     float64\n",
              "dtype: object"
            ]
          },
          "metadata": {},
          "execution_count": 11
        }
      ],
      "source": [
        "dataset.dtypes"
      ]
    },
    {
      "cell_type": "markdown",
      "metadata": {
        "id": "ORZo-yY6o5_9"
      },
      "source": [
        "4.\tCheck the balance of the data by plotting the count of outcomes by their value. Describe your findings and plan future course of actions."
      ]
    },
    {
      "cell_type": "code",
      "execution_count": 12,
      "metadata": {
        "colab": {
          "base_uri": "https://localhost:8080/",
          "height": 265
        },
        "id": "9H4F2zoeCsKv",
        "outputId": "d613701c-25a2-448c-c232-8b1c4aa47fba"
      },
      "outputs": [
        {
          "output_type": "display_data",
          "data": {
            "text/plain": [
              "<Figure size 432x288 with 1 Axes>"
            ],
            "image/png": "[encoded data removed]"
          },
          "metadata": {
            "needs_background": "light"
          }
        }
      ],
      "source": [
        "plt.hist(dataset.Outcome)\n",
        "plt.show()"
      ]
    },
    {
      "cell_type": "code",
      "execution_count": 13,
      "metadata": {
        "colab": {
          "base_uri": "https://localhost:8080/"
        },
        "id": "lXStauod8h1i",
        "outputId": "dabf8655-2a9b-41e2-ad36-94d95e7c12b5"
      },
      "outputs": [
        {
          "output_type": "stream",
          "name": "stdout",
          "text": [
            "Looking in indexes: https://pypi.org/simple, https://us-python.pkg.dev/colab-wheels/public/simple/\n",
            "Collecting imblearn\n",
            "  Downloading imblearn-0.0-py2.py3-none-any.whl (1.9 kB)\n",
            "Requirement already satisfied: imbalanced-learn in /usr/local/lib/python3.9/dist-packages (from imblearn) (0.10.1)\n",
            "Requirement already satisfied: joblib>=1.1.1 in /usr/local/lib/python3.9/dist-packages (from imbalanced-learn->imblearn) (1.1.1)\n",
            "Requirement already satisfied: scipy>=1.3.2 in /usr/local/lib/python3.9/dist-packages (from imbalanced-learn->imblearn) (1.10.1)\n",
            "Requirement already satisfied: numpy>=1.17.3 in /usr/local/lib/python3.9/dist-packages (from imbalanced-learn->imblearn) (1.22.4)\n",
            "Requirement already satisfied: scikit-learn>=1.0.2 in /usr/local/lib/python3.9/dist-packages (from imbalanced-learn->imblearn) (1.2.2)\n",
            "Requirement already satisfied: threadpoolctl>=2.0.0 in /usr/local/lib/python3.9/dist-packages (from imbalanced-learn->imblearn) (3.1.0)\n",
            "Installing collected packages: imblearn\n",
            "Successfully installed imblearn-0.0\n"
          ]
        }
      ],
      "source": [
        "pip install imblearn"
      ]
    },
    {
      "cell_type": "code",
      "execution_count": 14,
      "metadata": {
        "id": "ymej_s2QDFNu"
      },
      "outputs": [],
      "source": [
        "x=dataset.drop('Outcome',axis=1)\n",
        "y=dataset['Outcome']"
      ]
    },
    {
      "cell_type": "code",
      "execution_count": 15,
      "metadata": {
        "colab": {
          "base_uri": "https://localhost:8080/",
          "height": 265
        },
        "id": "blEZCvF3vS0t",
        "outputId": "6e7e2b42-561f-46bf-e58f-d983fe8737e4"
      },
      "outputs": [
        {
          "output_type": "display_data",
          "data": {
            "text/plain": [
              "<Figure size 432x288 with 1 Axes>"
            ],
            "image/png": "[encoded data removed]"
          },
          "metadata": {
            "needs_background": "light"
          }
        }
      ],
      "source": [
        "#balancing the data\n",
        "from imblearn.over_sampling import SMOTE\n",
        "x_,y_=SMOTE().fit_resample(x,y)\n",
        "\n",
        "plt.hist(y_)\n",
        "plt.show()"
      ]
    },
    {
      "cell_type": "markdown",
      "metadata": {
        "id": "w_lMTl50_MT2"
      },
      "source": [
        "5.\tCreate scatter charts between the pair of variables to understand the relationships. Describe your findings.\n"
      ]
    },
    {
      "cell_type": "code",
      "execution_count": 16,
      "metadata": {
        "colab": {
          "base_uri": "https://localhost:8080/",
          "height": 1000
        },
        "id": "oTpgGDTz_ZFF",
        "outputId": "b955bbbe-e389-4727-e763-64ba7480cf17"
      },
      "outputs": [
        {
          "output_type": "display_data",
          "data": {
            "text/plain": [
              "<Figure size 1296x1296 with 9 Axes>"
            ],
            "image/png": "[encoded data removed]"
          },
          "metadata": {
            "needs_background": "light"
          }
        }
      ],
      "source": [
        "fig,axes=plt.subplots(3,3,figsize=(18,18))\n",
        "p=0\n",
        "for j in range(3):\n",
        "  for k in range(3):\n",
        "    axes[j][k].scatter(dataset['Outcome'],dataset[dataset.columns[p]])\n",
        "    axes[j][k].set_title(dataset.columns[p]+'  vs  Outcome')\n",
        "    p+=1"
      ]
    },
    {
      "cell_type": "markdown",
      "metadata": {
        "id": "VVTqxxLD-1nK"
      },
      "source": [
        "6.\tPerform correlation analysis. Visually explore it using a heat map."
      ]
    },
    {
      "cell_type": "code",
      "execution_count": 17,
      "metadata": {
        "colab": {
          "base_uri": "https://localhost:8080/",
          "height": 460
        },
        "id": "6UwNfvr1ljvA",
        "outputId": "cc5f9fcc-02ee-4c5c-ba1f-10168a83ef04"
      },
      "outputs": [
        {
          "output_type": "display_data",
          "data": {
            "text/plain": [
              "<Figure size 432x288 with 2 Axes>"
            ],
            "image/png": "[encoded data removed]"
          },
          "metadata": {
            "needs_background": "light"
          }
        }
      ],
      "source": [
        "import seaborn as sns\n",
        "fig=plt.figure()\n",
        "ax=fig.add_axes([0,0,1,1])\n",
        "sns.heatmap(dataset.corr())\n",
        "plt.show()"
      ]
    },
    {
      "cell_type": "markdown",
      "metadata": {
        "id": "7vnhRi_rHIxo"
      },
      "source": [
        "7.\tDevise strategies for model building. It is important to decide the right validation framework. Express your thought process. Would Cross validation be useful in this scenario?\n"
      ]
    },
    {
      "cell_type": "code",
      "execution_count": 18,
      "metadata": {
        "id": "vQ5WVdXW6orK"
      },
      "outputs": [],
      "source": [
        "#Perform k-fold cross-validation model training and evaluate performance.  \n",
        "from sklearn.model_selection import KFold\n",
        "from sklearn.model_selection import cross_val_score\n",
        "import numpy as np\n",
        "def acc_score(model,x,y,p):\n",
        "  cv = KFold(n_splits=p, random_state=1, shuffle=True)\n",
        "  # evaluate model\n",
        "  scores = cross_val_score(model, x, y, scoring='accuracy', cv=cv, n_jobs=-1)\n",
        "  # report performance\n",
        "  return ('Accuracy: %.3f (%.3f)' % (np.mean(scores),np.std(scores)))"
      ]
    },
    {
      "cell_type": "markdown",
      "metadata": {
        "id": "iOu81WdprMz1"
      },
      "source": [
        "\n",
        "8.\tApply an appropriate classification algorithm to build a model. Compare various models with the results from KNN.\n"
      ]
    },
    {
      "cell_type": "code",
      "execution_count": 19,
      "metadata": {
        "id": "P_tbjZRPkQP5"
      },
      "outputs": [],
      "source": [
        "#KNN\n",
        "from sklearn.neighbors import KNeighborsClassifier as knn\n",
        "classifier=knn(n_neighbors=11)\n",
        "#Random forest\n",
        "from sklearn.ensemble import RandomForestClassifier as rfc\n",
        "Ran=rfc()\n",
        "#svm\n",
        "from sklearn.svm import SVC \n",
        "svc=SVC()"
      ]
    },
    {
      "cell_type": "code",
      "source": [
        "from sklearn.model_selection import train_test_split\n",
        "xtrain,xtest,ytrain,ytest=train_test_split(x_,y_,shuffle=True,test_size=0.2)"
      ],
      "metadata": {
        "id": "lbpvq822jdxy"
      },
      "execution_count": 21,
      "outputs": []
    },
    {
      "cell_type": "code",
      "execution_count": 22,
      "metadata": {
        "colab": {
          "base_uri": "https://localhost:8080/"
        },
        "id": "jeNAViChkW2J",
        "outputId": "125e8990-489b-499b-c92a-85d212996a11"
      },
      "outputs": [
        {
          "output_type": "stream",
          "name": "stdout",
          "text": [
            "KNN 2 splits :  Train_accuracy :  Accuracy: 0.685 (0.015) Test_accuracy :  Accuracy: 0.770 (0.020)\n",
            "RFC 2 splits :  Train_accuracy :  Accuracy: 0.786 (0.011) Test_accuracy :  Accuracy: 0.795 (0.005)\n",
            "SVC 2 splits :  Train_accuracy :  Accuracy: 0.715 (0.013) Test_accuracy :  Accuracy: 0.720 (0.000)\n",
            "--------------------------------------------------------------------------------------------------\n",
            "KNN 3 splits :  Train_accuracy :  Accuracy: 0.719 (0.010) Test_accuracy :  Accuracy: 0.705 (0.038)\n",
            "RFC 3 splits :  Train_accuracy :  Accuracy: 0.797 (0.008) Test_accuracy :  Accuracy: 0.775 (0.024)\n",
            "SVC 3 splits :  Train_accuracy :  Accuracy: 0.709 (0.019) Test_accuracy :  Accuracy: 0.750 (0.057)\n",
            "--------------------------------------------------------------------------------------------------\n",
            "KNN 4 splits :  Train_accuracy :  Accuracy: 0.719 (0.016) Test_accuracy :  Accuracy: 0.730 (0.046)\n",
            "RFC 4 splits :  Train_accuracy :  Accuracy: 0.805 (0.024) Test_accuracy :  Accuracy: 0.770 (0.022)\n",
            "SVC 4 splits :  Train_accuracy :  Accuracy: 0.699 (0.021) Test_accuracy :  Accuracy: 0.745 (0.057)\n",
            "--------------------------------------------------------------------------------------------------\n",
            "KNN 5 splits :  Train_accuracy :  Accuracy: 0.713 (0.037) Test_accuracy :  Accuracy: 0.720 (0.053)\n",
            "RFC 5 splits :  Train_accuracy :  Accuracy: 0.801 (0.026) Test_accuracy :  Accuracy: 0.770 (0.029)\n",
            "SVC 5 splits :  Train_accuracy :  Accuracy: 0.696 (0.041) Test_accuracy :  Accuracy: 0.740 (0.082)\n",
            "--------------------------------------------------------------------------------------------------\n",
            "KNN 6 splits :  Train_accuracy :  Accuracy: 0.724 (0.021) Test_accuracy :  Accuracy: 0.715 (0.073)\n",
            "RFC 6 splits :  Train_accuracy :  Accuracy: 0.810 (0.019) Test_accuracy :  Accuracy: 0.770 (0.052)\n",
            "SVC 6 splits :  Train_accuracy :  Accuracy: 0.706 (0.022) Test_accuracy :  Accuracy: 0.745 (0.071)\n",
            "--------------------------------------------------------------------------------------------------\n",
            "KNN 7 splits :  Train_accuracy :  Accuracy: 0.720 (0.022) Test_accuracy :  Accuracy: 0.724 (0.077)\n",
            "RFC 7 splits :  Train_accuracy :  Accuracy: 0.819 (0.017) Test_accuracy :  Accuracy: 0.750 (0.072)\n",
            "SVC 7 splits :  Train_accuracy :  Accuracy: 0.702 (0.041) Test_accuracy :  Accuracy: 0.734 (0.096)\n",
            "--------------------------------------------------------------------------------------------------\n",
            "KNN 8 splits :  Train_accuracy :  Accuracy: 0.724 (0.030) Test_accuracy :  Accuracy: 0.725 (0.068)\n",
            "RFC 8 splits :  Train_accuracy :  Accuracy: 0.811 (0.040) Test_accuracy :  Accuracy: 0.775 (0.056)\n",
            "SVC 8 splits :  Train_accuracy :  Accuracy: 0.704 (0.032) Test_accuracy :  Accuracy: 0.745 (0.094)\n",
            "--------------------------------------------------------------------------------------------------\n",
            "KNN 9 splits :  Train_accuracy :  Accuracy: 0.723 (0.040) Test_accuracy :  Accuracy: 0.720 (0.081)\n",
            "RFC 9 splits :  Train_accuracy :  Accuracy: 0.824 (0.044) Test_accuracy :  Accuracy: 0.770 (0.065)\n",
            "SVC 9 splits :  Train_accuracy :  Accuracy: 0.702 (0.043) Test_accuracy :  Accuracy: 0.735 (0.093)\n",
            "--------------------------------------------------------------------------------------------------\n",
            "KNN 10 splits :  Train_accuracy :  Accuracy: 0.722 (0.047) Test_accuracy :  Accuracy: 0.720 (0.093)\n",
            "RFC 10 splits :  Train_accuracy :  Accuracy: 0.815 (0.034) Test_accuracy :  Accuracy: 0.775 (0.084)\n",
            "SVC 10 splits :  Train_accuracy :  Accuracy: 0.702 (0.045) Test_accuracy :  Accuracy: 0.745 (0.099)\n",
            "--------------------------------------------------------------------------------------------------\n",
            "KNN 11 splits :  Train_accuracy :  Accuracy: 0.718 (0.049) Test_accuracy :  Accuracy: 0.710 (0.088)\n",
            "RFC 11 splits :  Train_accuracy :  Accuracy: 0.812 (0.033) Test_accuracy :  Accuracy: 0.770 (0.110)\n",
            "SVC 11 splits :  Train_accuracy :  Accuracy: 0.702 (0.042) Test_accuracy :  Accuracy: 0.736 (0.109)\n",
            "--------------------------------------------------------------------------------------------------\n",
            "KNN 12 splits :  Train_accuracy :  Accuracy: 0.722 (0.053) Test_accuracy :  Accuracy: 0.714 (0.100)\n",
            "RFC 12 splits :  Train_accuracy :  Accuracy: 0.812 (0.045) Test_accuracy :  Accuracy: 0.769 (0.072)\n",
            "SVC 12 splits :  Train_accuracy :  Accuracy: 0.705 (0.038) Test_accuracy :  Accuracy: 0.733 (0.110)\n",
            "--------------------------------------------------------------------------------------------------\n",
            "KNN 13 splits :  Train_accuracy :  Accuracy: 0.725 (0.048) Test_accuracy :  Accuracy: 0.724 (0.110)\n",
            "RFC 13 splits :  Train_accuracy :  Accuracy: 0.821 (0.054) Test_accuracy :  Accuracy: 0.770 (0.074)\n",
            "SVC 13 splits :  Train_accuracy :  Accuracy: 0.709 (0.056) Test_accuracy :  Accuracy: 0.750 (0.118)\n",
            "--------------------------------------------------------------------------------------------------\n",
            "KNN 14 splits :  Train_accuracy :  Accuracy: 0.719 (0.051) Test_accuracy :  Accuracy: 0.720 (0.103)\n",
            "RFC 14 splits :  Train_accuracy :  Accuracy: 0.807 (0.038) Test_accuracy :  Accuracy: 0.780 (0.088)\n",
            "SVC 14 splits :  Train_accuracy :  Accuracy: 0.704 (0.059) Test_accuracy :  Accuracy: 0.740 (0.117)\n",
            "--------------------------------------------------------------------------------------------------\n"
          ]
        }
      ],
      "source": [
        "#Identify the best model and justify the evaluation metrics used.\n",
        "for i in range(2,15): \n",
        "  print('KNN',i,'splits : ','Train_accuracy : ',acc_score(classifier,xtrain,ytrain,i),'Test_accuracy : ',acc_score(classifier,xtest,ytest,i))\n",
        "  print('RFC',i,'splits : ','Train_accuracy : ',acc_score(Ran,xtrain,ytrain,i),'Test_accuracy : ',acc_score(Ran,xtest,ytest,i))\n",
        "  print('SVC',i,'splits : ','Train_accuracy : ',acc_score(svc,xtrain,ytrain,i),'Test_accuracy : ',acc_score(svc,xtest,ytest,i))\n",
        "  print('--------------------------------------------------------------------------------------------------')"
      ]
    },
    {
      "cell_type": "code",
      "execution_count": 23,
      "metadata": {
        "id": "5pcOW6mCs4DL"
      },
      "outputs": [],
      "source": [
        "kf = KFold(n_splits=2, random_state=1, shuffle=True)\n",
        "for i, (train_index, test_index) in enumerate(kf.split(x_)):\n",
        "  x_train,y_train=x_.iloc[train_index,:],y_.iloc[train_index]\n",
        "  x_test,y_test=x_.iloc[test_index,:],y_.iloc[test_index]\n"
      ]
    },
    {
      "cell_type": "code",
      "execution_count": 24,
      "metadata": {
        "colab": {
          "base_uri": "https://localhost:8080/"
        },
        "id": "3I9QNsf1EQne",
        "outputId": "9ad9bb27-0e0b-4df8-e2ed-b829729efb04"
      },
      "outputs": [
        {
          "output_type": "stream",
          "name": "stdout",
          "text": [
            "0.756\n"
          ]
        }
      ],
      "source": [
        "from sklearn.metrics import accuracy_score\n",
        "KNN=classifier.fit(x_train,y_train).predict(x_test)\n",
        "print(accuracy_score(KNN,y_test))"
      ]
    },
    {
      "cell_type": "code",
      "source": [
        "from sklearn.metrics import classification_report,roc_auc_score\n",
        "print(classification_report(KNN,y_test))\n",
        "print('roc_auc_score : ',roc_auc_score(KNN, y_test))"
      ],
      "metadata": {
        "colab": {
          "base_uri": "https://localhost:8080/"
        },
        "id": "kAaAhi65dga7",
        "outputId": "ecc2a07d-e2fb-4dd5-e521-ed5a543df690"
      },
      "execution_count": 26,
      "outputs": [
        {
          "output_type": "stream",
          "name": "stdout",
          "text": [
            "              precision    recall  f1-score   support\n",
            "\n",
            "         0.0       0.76      0.74      0.75       246\n",
            "         1.0       0.76      0.77      0.76       254\n",
            "\n",
            "    accuracy                           0.76       500\n",
            "   macro avg       0.76      0.76      0.76       500\n",
            "weighted avg       0.76      0.76      0.76       500\n",
            "\n",
            "roc_auc_score :  0.7558094872287305\n"
          ]
        }
      ]
    },
    {
      "cell_type": "markdown",
      "source": [
        "Model_selection - 2"
      ],
      "metadata": {
        "id": "-Zd09qXH9SXN"
      }
    },
    {
      "cell_type": "code",
      "execution_count": 33,
      "metadata": {
        "id": "1FEBetKl-FDq"
      },
      "outputs": [],
      "source": [
        "from sklearn.model_selection import train_test_split\n",
        "xtrain,xtest,ytrain,ytest=train_test_split(x_,y_,shuffle=True,test_size=0.2)"
      ]
    },
    {
      "cell_type": "code",
      "source": [
        "from sklearn.metrics import accuracy_score\n",
        "KNN=classifier.fit(xtrain,ytrain).predict(xtest)\n",
        "print(accuracy_score(KNN,ytest))"
      ],
      "metadata": {
        "colab": {
          "base_uri": "https://localhost:8080/"
        },
        "id": "0SurxtNU7lST",
        "outputId": "b68970b9-0739-49ed-8259-02c4062962e1"
      },
      "execution_count": 34,
      "outputs": [
        {
          "output_type": "stream",
          "name": "stdout",
          "text": [
            "0.785\n"
          ]
        }
      ]
    },
    {
      "cell_type": "code",
      "source": [
        "from sklearn.metrics import classification_report\n",
        "print(classification_report(KNN,ytest))\n",
        "print('roc_auc_score : ',roc_auc_score(KNN, ytest))"
      ],
      "metadata": {
        "colab": {
          "base_uri": "https://localhost:8080/"
        },
        "id": "b9d7FTyS9QfP",
        "outputId": "98089111-eda6-450f-9f1d-c213a6aad9f1"
      },
      "execution_count": 35,
      "outputs": [
        {
          "output_type": "stream",
          "name": "stdout",
          "text": [
            "              precision    recall  f1-score   support\n",
            "\n",
            "         0.0       0.72      0.80      0.76        85\n",
            "         1.0       0.84      0.77      0.81       115\n",
            "\n",
            "    accuracy                           0.79       200\n",
            "   macro avg       0.78      0.79      0.78       200\n",
            "weighted avg       0.79      0.79      0.79       200\n",
            "\n",
            "roc_auc_score :  0.7869565217391306\n"
          ]
        }
      ]
    },
    {
      "cell_type": "markdown",
      "source": [
        "**Preprocessing**"
      ],
      "metadata": {
        "id": "cMDtluhckSik"
      }
    },
    {
      "cell_type": "code",
      "source": [
        "from sklearn.preprocessing import StandardScaler\n",
        "scaled=StandardScaler().fit_transform(xtrain)"
      ],
      "metadata": {
        "id": "ZkNx3aZPj_E6"
      },
      "execution_count": 45,
      "outputs": []
    },
    {
      "cell_type": "code",
      "source": [
        "from sklearn.metrics import accuracy_score\n",
        "KNN=classifier.fit(scaled,ytrain).predict(xtest)\n",
        "print(accuracy_score(KNN,ytest))"
      ],
      "metadata": {
        "colab": {
          "base_uri": "https://localhost:8080/"
        },
        "id": "3RIL8YekktLB",
        "outputId": "7d8e6eab-2864-4509-f192-8b9ea3245a4b"
      },
      "execution_count": 46,
      "outputs": [
        {
          "output_type": "stream",
          "name": "stdout",
          "text": [
            "0.53\n"
          ]
        },
        {
          "output_type": "stream",
          "name": "stderr",
          "text": [
            "/usr/local/lib/python3.9/dist-packages/sklearn/base.py:432: UserWarning: X has feature names, but KNeighborsClassifier was fitted without feature names\n",
            "  warnings.warn(\n"
          ]
        }
      ]
    }
  ],
  "metadata": {
    "colab": {
      "provenance": []
    },
    "kernelspec": {
      "display_name": "Python 3",
      "name": "python3"
    },
    "language_info": {
      "name": "python"
    }
  },
  "nbformat": 4,
  "nbformat_minor": 0
}