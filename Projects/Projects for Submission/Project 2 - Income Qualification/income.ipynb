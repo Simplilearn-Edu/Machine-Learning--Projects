{
  "nbformat": 4,
  "nbformat_minor": 0,
  "metadata": {
    "colab": {
      "provenance": []
    },
    "kernelspec": {
      "name": "python3",
      "display_name": "Python 3"
    },
    "language_info": {
      "name": "python"
    }
  },
  "cells": [
    {
      "cell_type": "code",
      "execution_count": 3,
      "metadata": {
        "id": "UTdqQ0psxPd_"
      },
      "outputs": [],
      "source": [
        "import numpy as np\n",
        "import pandas as pd\n",
        "import matplotlib.pyplot as plt\n",
        "from sklearn.ensemble import RandomForestClassifier as RFC"
      ]
    },
    {
      "cell_type": "code",
      "source": [
        "train_dataset=pd.read_csv('train.csv')"
      ],
      "metadata": {
        "id": "k4LefIPkxpb9"
      },
      "execution_count": 4,
      "outputs": []
    },
    {
      "cell_type": "code",
      "source": [
        "#Identify the output variable.\n",
        "train_dataset['Target']"
      ],
      "metadata": {
        "id": "Tnt9v8l61JUg",
        "colab": {
          "base_uri": "https://localhost:8080/"
        },
        "outputId": "998e068e-fff6-4ff0-f8af-441c5ebd95aa"
      },
      "execution_count": 5,
      "outputs": [
        {
          "output_type": "execute_result",
          "data": {
            "text/plain": [
              "0       4\n",
              "1       4\n",
              "2       4\n",
              "3       4\n",
              "4       4\n",
              "       ..\n",
              "9552    2\n",
              "9553    2\n",
              "9554    2\n",
              "9555    2\n",
              "9556    2\n",
              "Name: Target, Length: 9557, dtype: int64"
            ]
          },
          "metadata": {},
          "execution_count": 5
        }
      ]
    },
    {
      "cell_type": "code",
      "source": [
        "#Understand the type of data.\n",
        "train_dataset.dtypes"
      ],
      "metadata": {
        "colab": {
          "base_uri": "https://localhost:8080/"
        },
        "id": "Fhb-G6sZ4irk",
        "outputId": "f8fb2fee-ee24-46ac-b4b1-73dc92b5eaaa"
      },
      "execution_count": 6,
      "outputs": [
        {
          "output_type": "execute_result",
          "data": {
            "text/plain": [
              "Id                  object\n",
              "v2a1               float64\n",
              "hacdor               int64\n",
              "rooms                int64\n",
              "hacapo               int64\n",
              "                    ...   \n",
              "SQBovercrowding    float64\n",
              "SQBdependency      float64\n",
              "SQBmeaned          float64\n",
              "agesq                int64\n",
              "Target               int64\n",
              "Length: 143, dtype: object"
            ]
          },
          "metadata": {},
          "execution_count": 6
        }
      ]
    },
    {
      "cell_type": "code",
      "source": [
        "#Count how many null values are existing in columns.\n",
        "train_dataset.isnull().sum()[train_dataset.isnull().sum().sort_values()>0]"
      ],
      "metadata": {
        "colab": {
          "base_uri": "https://localhost:8080/"
        },
        "id": "3LdvF70H4vAQ",
        "outputId": "1c04b95c-653e-4bad-e008-c05c1d0d6835"
      },
      "execution_count": 7,
      "outputs": [
        {
          "output_type": "execute_result",
          "data": {
            "text/plain": [
              "v2a1         6860\n",
              "v18q1        7342\n",
              "rez_esc      7928\n",
              "meaneduc        5\n",
              "SQBmeaned       5\n",
              "dtype: int64"
            ]
          },
          "metadata": {},
          "execution_count": 7
        }
      ]
    },
    {
      "cell_type": "code",
      "source": [
        "train_dataset=train_dataset.drop(['Id','v2a1','v18q1','rez_esc'],axis=1)\n",
        "train_dataset.dropna(inplace=True)"
      ],
      "metadata": {
        "id": "02NbqzYovypq"
      },
      "execution_count": 8,
      "outputs": []
    },
    {
      "cell_type": "code",
      "source": [
        "#Remove null value rows of the target variable.\n",
        "train_dataset['Target'].dropna()\n",
        "train_dataset['Target'].isnull().sum()\n"
      ],
      "metadata": {
        "id": "ycuwZacT76GJ",
        "colab": {
          "base_uri": "https://localhost:8080/"
        },
        "outputId": "8c8928e5-3f7c-4dec-edb9-ea7047d31e45"
      },
      "execution_count": 10,
      "outputs": [
        {
          "output_type": "execute_result",
          "data": {
            "text/plain": [
              "0"
            ]
          },
          "metadata": {},
          "execution_count": 10
        }
      ]
    },
    {
      "cell_type": "code",
      "source": [
        "#preprocessing\n",
        "cat=[]\n",
        "for i in train_dataset.columns:\n",
        "  if((train_dataset[i].dtype)=='object'):\n",
        "    cat.append(i)\n",
        "  else:continue\n",
        "num=train_dataset.drop(cat,axis=1)"
      ],
      "metadata": {
        "id": "SDCmeeNj1LDU"
      },
      "execution_count": 11,
      "outputs": []
    },
    {
      "cell_type": "code",
      "source": [
        "#encoding\n",
        "from sklearn.preprocessing import LabelEncoder\n",
        "for i in cat:\n",
        "  train_dataset[i]=LabelEncoder().fit_transform(train_dataset[i])"
      ],
      "metadata": {
        "id": "ZoL01M4iu7Zg"
      },
      "execution_count": 12,
      "outputs": []
    },
    {
      "cell_type": "code",
      "source": [
        "x=train_dataset.drop('Target',axis=1)\n",
        "y=train_dataset['Target']"
      ],
      "metadata": {
        "id": "Zby3mgSrxrBa"
      },
      "execution_count": 13,
      "outputs": []
    },
    {
      "cell_type": "code",
      "source": [
        "#preprocessing \n",
        "from sklearn.preprocessing import StandardScaler\n",
        "scale=StandardScaler().fit_transform(x)"
      ],
      "metadata": {
        "id": "479SvTEjxSs6"
      },
      "execution_count": 14,
      "outputs": []
    },
    {
      "cell_type": "code",
      "source": [
        "#spliting\n",
        "from sklearn.model_selection import train_test_split\n",
        "xtrain,xtest,ytrain,ytest=train_test_split(scale,y,test_size=0.3)"
      ],
      "metadata": {
        "id": "Tc2FVty3zgub"
      },
      "execution_count": 15,
      "outputs": []
    },
    {
      "cell_type": "code",
      "source": [
        "#training\n",
        "from sklearn.ensemble import RandomForestClassifier as RFC\n",
        "rfc=RFC()\n",
        "rfc.fit(xtrain,ytrain)\n",
        "pred=rfc.predict(xtest)"
      ],
      "metadata": {
        "id": "wKA8c9_Dyg8v"
      },
      "execution_count": 37,
      "outputs": []
    },
    {
      "cell_type": "code",
      "source": [
        "#Predict the accuracy using random forest classifier.\n",
        "from sklearn.metrics import accuracy_score \n",
        "accuracy_score(pred,ytest)"
      ],
      "metadata": {
        "colab": {
          "base_uri": "https://localhost:8080/"
        },
        "id": "d7vdvqxK1QE_",
        "outputId": "d61e13c7-6c30-4026-dc91-bee8a8942c28"
      },
      "execution_count": 17,
      "outputs": [
        {
          "output_type": "execute_result",
          "data": {
            "text/plain": [
              "0.9110258199581298"
            ]
          },
          "metadata": {},
          "execution_count": 17
        }
      ]
    },
    {
      "cell_type": "code",
      "source": [
        "#Perform k-fold cross-validation model training and evaluate performance.  \n",
        "from sklearn.model_selection import KFold\n",
        "from sklearn.model_selection import cross_val_score\n",
        "import numpy as np\n",
        "def acc_score(model,x,y):\n",
        "  cv = KFold(n_splits=10, random_state=1, shuffle=True)\n",
        "  # evaluate model\n",
        "  scores = cross_val_score(model, x, y, scoring='accuracy', cv=cv, n_jobs=-1)\n",
        "  # report performance\n",
        "  return ('Accuracy: %.3f (%.3f)' % (np.mean(scores),np.std(scores)))"
      ],
      "metadata": {
        "id": "ZFtekVB7TMKh"
      },
      "execution_count": 18,
      "outputs": []
    },
    {
      "cell_type": "code",
      "source": [
        "#Check the accuracy using random forest with cross validation.\n",
        "\n",
        "acc_score(g,xtrain,ytrain)\n"
      ],
      "metadata": {
        "colab": {
          "base_uri": "https://localhost:8080/",
          "height": 35
        },
        "id": "v_eKwK2V1i-6",
        "outputId": "48f64f9b-bb3f-4caa-cd86-bf8ced32603e"
      },
      "execution_count": 20,
      "outputs": [
        {
          "output_type": "execute_result",
          "data": {
            "text/plain": [
              "'Accuracy: 0.898 (0.013)'"
            ],
            "application/vnd.google.colaboratory.intrinsic+json": {
              "type": "string"
            }
          },
          "metadata": {},
          "execution_count": 20
        }
      ]
    },
    {
      "cell_type": "code",
      "source": [
        "#upload test data\n",
        "test=pd.read_csv('test.csv')"
      ],
      "metadata": {
        "id": "6_OFtK1sou9L",
        "colab": {
          "base_uri": "https://localhost:8080/"
        },
        "outputId": "5214431c-b396-499d-c8fe-7f6149f3d939"
      },
      "execution_count": 21,
      "outputs": [
        {
          "output_type": "execute_result",
          "data": {
            "text/plain": [
              "Id                     0\n",
              "v2a1               17403\n",
              "hacdor                 0\n",
              "rooms                  0\n",
              "hacapo                 0\n",
              "                   ...  \n",
              "SQBhogar_nin           0\n",
              "SQBovercrowding        0\n",
              "SQBdependency          0\n",
              "SQBmeaned             31\n",
              "agesq                  0\n",
              "Length: 142, dtype: int64"
            ]
          },
          "metadata": {},
          "execution_count": 21
        }
      ]
    },
    {
      "cell_type": "code",
      "source": [
        "#Count how many null values are existing in columns.\n",
        "test.isnull().sum()[test.isnull().sum().sort_values()>0]"
      ],
      "metadata": {
        "colab": {
          "base_uri": "https://localhost:8080/"
        },
        "id": "p_1fypZmU4qI",
        "outputId": "b960e88b-7a34-4459-81bb-9ed2e913c57c"
      },
      "execution_count": 27,
      "outputs": [
        {
          "output_type": "execute_result",
          "data": {
            "text/plain": [
              "v2a1         17403\n",
              "v18q1        18126\n",
              "rez_esc      19653\n",
              "meaneduc        31\n",
              "SQBmeaned       31\n",
              "dtype: int64"
            ]
          },
          "metadata": {},
          "execution_count": 27
        }
      ]
    },
    {
      "cell_type": "code",
      "source": [
        "test=test.drop(['Id','v2a1','v18q1','rez_esc'],axis=1)\n",
        "test.dropna(inplace=True)"
      ],
      "metadata": {
        "id": "KHvLE-lzzP4I"
      },
      "execution_count": 29,
      "outputs": []
    },
    {
      "cell_type": "code",
      "source": [
        "#encoding\n",
        "from sklearn.preprocessing import LabelEncoder\n",
        "for i in cat:\n",
        "  test[i]=LabelEncoder().fit_transform(test[i])"
      ],
      "metadata": {
        "id": "YozudXY0VyQo"
      },
      "execution_count": 31,
      "outputs": []
    },
    {
      "cell_type": "code",
      "source": [
        "#preprocessing \n",
        "from sklearn.preprocessing import StandardScaler\n",
        "scale=StandardScaler().fit_transform(test)"
      ],
      "metadata": {
        "id": "y1AHwrdHV6vm"
      },
      "execution_count": 32,
      "outputs": []
    },
    {
      "cell_type": "code",
      "source": [
        "#Predict the accuracy using random forest classifier.\n",
        "prediction=rfc.predict(test)"
      ],
      "metadata": {
        "id": "F1A0hxeXkDlp",
        "colab": {
          "base_uri": "https://localhost:8080/"
        },
        "outputId": "8fae6803-1482-4cb5-fefb-aac925b1d55c"
      },
      "execution_count": 38,
      "outputs": [
        {
          "output_type": "stream",
          "name": "stderr",
          "text": [
            "/usr/local/lib/python3.8/dist-packages/sklearn/base.py:443: UserWarning: X has feature names, but RandomForestClassifier was fitted without feature names\n",
            "  warnings.warn(\n"
          ]
        }
      ]
    },
    {
      "cell_type": "code",
      "source": [
        "prediction"
      ],
      "metadata": {
        "id": "wt96eiDS9aWd",
        "colab": {
          "base_uri": "https://localhost:8080/"
        },
        "outputId": "75a82f43-8bc8-496f-d5f2-1b63141750e4"
      },
      "execution_count": 40,
      "outputs": [
        {
          "output_type": "execute_result",
          "data": {
            "text/plain": [
              "array([4, 4, 4, ..., 3, 3, 3])"
            ]
          },
          "metadata": {},
          "execution_count": 40
        }
      ]
    },
    {
      "cell_type": "code",
      "source": [],
      "metadata": {
        "id": "ZGd4Ug0EWVs5"
      },
      "execution_count": null,
      "outputs": []
    }
  ]
}